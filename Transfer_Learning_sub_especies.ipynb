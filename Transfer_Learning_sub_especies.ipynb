{
 "cells": [
  {
   "cell_type": "markdown",
   "metadata": {
    "_uuid": "63fa02cc6f3a2593013a53dcd20bdd9c54533efb"
   },
   "source": [
    "# 1. Setup"
   ]
  },
  {
   "cell_type": "markdown",
   "metadata": {},
   "source": [
    "## 1.1 Imports"
   ]
  },
  {
   "cell_type": "code",
   "execution_count": 1,
   "metadata": {
    "_cell_guid": "b1076dfc-b9ad-4769-8c92-a6c4dae69d19",
    "_uuid": "8f2839f25d086af736a60e9eeb907d3b93b6e0e5"
   },
   "outputs": [],
   "source": [
    "import numpy as np\n",
    "\n",
    "from tensorflow.keras.applications.vgg16 import VGG16\n",
    "\n",
    "import tensorflow.keras as keras\n",
    "from tensorflow.keras.models import Sequential, Model\n",
    "from tensorflow.keras.layers import Dense, Conv2D, Flatten, MaxPool2D, Dropout, Input, Activation\n",
    "from tensorflow.keras.callbacks import EarlyStopping, ModelCheckpoint\n",
    "from tensorflow.keras.optimizers import Adam\n",
    "import tensorflow as tf\n",
    "\n",
    "import bees_utils_macro as utils\n",
    "import datetime\n"
   ]
  },
  {
   "cell_type": "markdown",
   "metadata": {
    "_cell_guid": "b1076dfc-b9ad-4769-8c92-a6c4dae69d19",
    "_uuid": "8f2839f25d086af736a60e9eeb907d3b93b6e0e5"
   },
   "source": [
    "## 1.2 Set random seeds"
   ]
  },
  {
   "cell_type": "code",
   "execution_count": 2,
   "metadata": {
    "_cell_guid": "b1076dfc-b9ad-4769-8c92-a6c4dae69d19",
    "_uuid": "8f2839f25d086af736a60e9eeb907d3b93b6e0e5"
   },
   "outputs": [],
   "source": [
    "np.random.seed(117)\n",
    "tf.random.set_seed(117)"
   ]
  },
  {
   "cell_type": "markdown",
   "metadata": {
    "_cell_guid": "b1076dfc-b9ad-4769-8c92-a6c4dae69d19",
    "_uuid": "8f2839f25d086af736a60e9eeb907d3b93b6e0e5"
   },
   "source": [
    "## 1.3 Global variables"
   ]
  },
  {
   "cell_type": "code",
   "execution_count": 3,
   "metadata": {
    "_cell_guid": "b1076dfc-b9ad-4769-8c92-a6c4dae69d19",
    "_uuid": "8f2839f25d086af736a60e9eeb907d3b93b6e0e5"
   },
   "outputs": [],
   "source": [
    "img_width = 100\n",
    "img_height = 100\n",
    "img_channels = 3"
   ]
  },
  {
   "cell_type": "markdown",
   "metadata": {
    "_cell_guid": "79c7e3d0-c299-4dcb-8224-4455121ee9b0",
    "_uuid": "d629ff2d2480ee46fbb7e2d37f6b5fab8052498a"
   },
   "source": [
    "# 2. Carga de datos"
   ]
  },
  {
   "cell_type": "code",
   "execution_count": 4,
   "metadata": {
    "_uuid": "5d69ff10797c793abb7c5a05594f8d3463769995"
   },
   "outputs": [],
   "source": [
    "bees, bees_test_for_evaluation = utils.read_data()"
   ]
  },
  {
   "cell_type": "code",
   "execution_count": 5,
   "metadata": {
    "_uuid": "5d69ff10797c793abb7c5a05594f8d3463769995",
    "scrolled": true
   },
   "outputs": [
    {
     "data": {
      "text/html": [
       "<div>\n",
       "<style scoped>\n",
       "    .dataframe tbody tr th:only-of-type {\n",
       "        vertical-align: middle;\n",
       "    }\n",
       "\n",
       "    .dataframe tbody tr th {\n",
       "        vertical-align: top;\n",
       "    }\n",
       "\n",
       "    .dataframe thead th {\n",
       "        text-align: right;\n",
       "    }\n",
       "</style>\n",
       "<table border=\"1\" class=\"dataframe\">\n",
       "  <thead>\n",
       "    <tr style=\"text-align: right;\">\n",
       "      <th></th>\n",
       "      <th>id</th>\n",
       "      <th>datetime</th>\n",
       "      <th>file</th>\n",
       "      <th>location</th>\n",
       "      <th>zip code</th>\n",
       "      <th>subspecies</th>\n",
       "      <th>health</th>\n",
       "      <th>pollen_carrying</th>\n",
       "      <th>caste</th>\n",
       "    </tr>\n",
       "  </thead>\n",
       "  <tbody>\n",
       "    <tr>\n",
       "      <th>0</th>\n",
       "      <td>0</td>\n",
       "      <td>2018-08-06 14:48:00</td>\n",
       "      <td>020_011.png</td>\n",
       "      <td>Saratoga, CA, USA</td>\n",
       "      <td>95070</td>\n",
       "      <td>Italian honey bee</td>\n",
       "      <td>healthy</td>\n",
       "      <td>False</td>\n",
       "      <td>worker</td>\n",
       "    </tr>\n",
       "    <tr>\n",
       "      <th>1</th>\n",
       "      <td>1</td>\n",
       "      <td>2018-08-21 09:00:00</td>\n",
       "      <td>032_507.png</td>\n",
       "      <td>Des Moines, IA, USA</td>\n",
       "      <td>50315</td>\n",
       "      <td>Russian honey bee</td>\n",
       "      <td>healthy</td>\n",
       "      <td>False</td>\n",
       "      <td>worker</td>\n",
       "    </tr>\n",
       "    <tr>\n",
       "      <th>2</th>\n",
       "      <td>2</td>\n",
       "      <td>2018-08-21 09:00:00</td>\n",
       "      <td>032_612.png</td>\n",
       "      <td>Des Moines, IA, USA</td>\n",
       "      <td>50315</td>\n",
       "      <td>Russian honey bee</td>\n",
       "      <td>healthy</td>\n",
       "      <td>False</td>\n",
       "      <td>worker</td>\n",
       "    </tr>\n",
       "    <tr>\n",
       "      <th>3</th>\n",
       "      <td>3</td>\n",
       "      <td>2018-08-17 17:50:00</td>\n",
       "      <td>030_773.png</td>\n",
       "      <td>Alvin, TX, USA</td>\n",
       "      <td>77511</td>\n",
       "      <td>Italian honey bee</td>\n",
       "      <td>ant problems</td>\n",
       "      <td>False</td>\n",
       "      <td>worker</td>\n",
       "    </tr>\n",
       "    <tr>\n",
       "      <th>4</th>\n",
       "      <td>4</td>\n",
       "      <td>2018-08-06 13:19:00</td>\n",
       "      <td>015_1052.png</td>\n",
       "      <td>Saratoga, CA, USA</td>\n",
       "      <td>95070</td>\n",
       "      <td>Italian honey bee</td>\n",
       "      <td>healthy</td>\n",
       "      <td>False</td>\n",
       "      <td>worker</td>\n",
       "    </tr>\n",
       "  </tbody>\n",
       "</table>\n",
       "</div>"
      ],
      "text/plain": [
       "   id             datetime          file             location  zip code  \\\n",
       "0   0  2018-08-06 14:48:00   020_011.png    Saratoga, CA, USA     95070   \n",
       "1   1  2018-08-21 09:00:00   032_507.png  Des Moines, IA, USA     50315   \n",
       "2   2  2018-08-21 09:00:00   032_612.png  Des Moines, IA, USA     50315   \n",
       "3   3  2018-08-17 17:50:00   030_773.png       Alvin, TX, USA     77511   \n",
       "4   4  2018-08-06 13:19:00  015_1052.png    Saratoga, CA, USA     95070   \n",
       "\n",
       "          subspecies        health  pollen_carrying   caste  \n",
       "0  Italian honey bee       healthy            False  worker  \n",
       "1  Russian honey bee       healthy            False  worker  \n",
       "2  Russian honey bee       healthy            False  worker  \n",
       "3  Italian honey bee  ant problems            False  worker  \n",
       "4  Italian honey bee       healthy            False  worker  "
      ]
     },
     "execution_count": 5,
     "metadata": {},
     "output_type": "execute_result"
    }
   ],
   "source": [
    "bees.head()"
   ]
  },
  {
   "cell_type": "code",
   "execution_count": 6,
   "metadata": {},
   "outputs": [
    {
     "data": {
      "text/html": [
       "<div>\n",
       "<style scoped>\n",
       "    .dataframe tbody tr th:only-of-type {\n",
       "        vertical-align: middle;\n",
       "    }\n",
       "\n",
       "    .dataframe tbody tr th {\n",
       "        vertical-align: top;\n",
       "    }\n",
       "\n",
       "    .dataframe thead th {\n",
       "        text-align: right;\n",
       "    }\n",
       "</style>\n",
       "<table border=\"1\" class=\"dataframe\">\n",
       "  <thead>\n",
       "    <tr style=\"text-align: right;\">\n",
       "      <th></th>\n",
       "      <th>id</th>\n",
       "      <th>datetime</th>\n",
       "      <th>file</th>\n",
       "      <th>location</th>\n",
       "      <th>zip code</th>\n",
       "      <th>pollen_carrying</th>\n",
       "      <th>caste</th>\n",
       "    </tr>\n",
       "  </thead>\n",
       "  <tbody>\n",
       "    <tr>\n",
       "      <th>0</th>\n",
       "      <td>0</td>\n",
       "      <td>2018-08-28 16:07:00</td>\n",
       "      <td>042_012.png</td>\n",
       "      <td>Alvin, TX, USA</td>\n",
       "      <td>77511</td>\n",
       "      <td>False</td>\n",
       "      <td>worker</td>\n",
       "    </tr>\n",
       "    <tr>\n",
       "      <th>1</th>\n",
       "      <td>1</td>\n",
       "      <td>2018-08-10 13:54:00</td>\n",
       "      <td>022_114.png</td>\n",
       "      <td>Saratoga, CA, USA</td>\n",
       "      <td>95070</td>\n",
       "      <td>False</td>\n",
       "      <td>worker</td>\n",
       "    </tr>\n",
       "    <tr>\n",
       "      <th>2</th>\n",
       "      <td>2</td>\n",
       "      <td>2018-08-18 12:30:00</td>\n",
       "      <td>038_384.png</td>\n",
       "      <td>Athens, Georgia, USA</td>\n",
       "      <td>30607</td>\n",
       "      <td>False</td>\n",
       "      <td>worker</td>\n",
       "    </tr>\n",
       "    <tr>\n",
       "      <th>3</th>\n",
       "      <td>3</td>\n",
       "      <td>2018-08-17 17:50:00</td>\n",
       "      <td>030_740.png</td>\n",
       "      <td>Alvin, TX, USA</td>\n",
       "      <td>77511</td>\n",
       "      <td>False</td>\n",
       "      <td>worker</td>\n",
       "    </tr>\n",
       "    <tr>\n",
       "      <th>4</th>\n",
       "      <td>4</td>\n",
       "      <td>2018-07-07 12:56:00</td>\n",
       "      <td>005_310.png</td>\n",
       "      <td>Saratoga, CA, USA</td>\n",
       "      <td>95070</td>\n",
       "      <td>False</td>\n",
       "      <td>worker</td>\n",
       "    </tr>\n",
       "  </tbody>\n",
       "</table>\n",
       "</div>"
      ],
      "text/plain": [
       "   id             datetime         file              location  zip code  \\\n",
       "0   0  2018-08-28 16:07:00  042_012.png        Alvin, TX, USA     77511   \n",
       "1   1  2018-08-10 13:54:00  022_114.png     Saratoga, CA, USA     95070   \n",
       "2   2  2018-08-18 12:30:00  038_384.png  Athens, Georgia, USA     30607   \n",
       "3   3  2018-08-17 17:50:00  030_740.png        Alvin, TX, USA     77511   \n",
       "4   4  2018-07-07 12:56:00  005_310.png     Saratoga, CA, USA     95070   \n",
       "\n",
       "   pollen_carrying   caste  \n",
       "0            False  worker  \n",
       "1            False  worker  \n",
       "2            False  worker  \n",
       "3            False  worker  \n",
       "4            False  worker  "
      ]
     },
     "execution_count": 6,
     "metadata": {},
     "output_type": "execute_result"
    }
   ],
   "source": [
    "bees_test_for_evaluation.head()"
   ]
  },
  {
   "cell_type": "markdown",
   "metadata": {
    "_uuid": "1419a5e71da60223177d900fd0e432e46bfa67a0"
   },
   "source": [
    "# 3. Análisis exploratorio de datos"
   ]
  },
  {
   "cell_type": "markdown",
   "metadata": {},
   "source": [
    "## 3.1 Análisis descriptivo: Distribuciones, Scatterplots, Barplots..."
   ]
  },
  {
   "cell_type": "code",
   "execution_count": 7,
   "metadata": {},
   "outputs": [
    {
     "data": {
      "image/png": "[encoded data removed]",
      "text/plain": [
       "<Figure size 432x288 with 1 Axes>"
      ]
     },
     "metadata": {
      "needs_background": "light"
     },
     "output_type": "display_data"
    }
   ],
   "source": [
    "utils.value_counts(bees, 'subspecies')"
   ]
  },
  {
   "cell_type": "markdown",
   "metadata": {
    "_uuid": "d750593ed655926232fabd8653ebadde62b19b31"
   },
   "source": [
    "## 3.2 Ver imágenes"
   ]
  },
  {
   "cell_type": "code",
   "execution_count": 8,
   "metadata": {},
   "outputs": [
    {
     "data": {
      "image/png": "[encoded data removed]",
      "text/plain": [
       "<Figure size 1440x360 with 5 Axes>"
      ]
     },
     "metadata": {
      "needs_background": "light"
     },
     "output_type": "display_data"
    }
   ],
   "source": [
    "utils.plot_images(bees, 'location', [1, 25, 7, 100, 254])"
   ]
  },
  {
   "cell_type": "markdown",
   "metadata": {
    "_uuid": "79fb4788f90b3603c8b71472f44647b808bab25e"
   },
   "source": [
    "# 4. Clasificación\n",
    "\n",
    "## 4.1. Data preprocessing\n",
    "### 4.1.1 Particionamiento"
   ]
  },
  {
   "cell_type": "code",
   "execution_count": 9,
   "metadata": {
    "_uuid": "a167115aa4fcc937097a1c5c8899b909f33fb2d5"
   },
   "outputs": [],
   "source": [
    "train_bees, val_bees, test_bees = utils.split(bees)"
   ]
  },
  {
   "cell_type": "markdown",
   "metadata": {
    "_uuid": "e9650143e38ccda561450d08d241cb7ce51c89e8"
   },
   "source": [
    "\n",
    "### 4.1.2 Carga de imágenes"
   ]
  },
  {
   "cell_type": "code",
   "execution_count": 10,
   "metadata": {
    "_uuid": "dcda4508b7424518d4c11a0e4b7ad2a05f803601"
   },
   "outputs": [],
   "source": [
    "# esta función ya uniformiza todas las imágenes en 100x100\n",
    "train_X, val_X, test_X, train_y, val_y, test_y = utils.load_images_and_target(train_bees, \n",
    "                                                                              val_bees, \n",
    "                                                                              test_bees,\n",
    "                                                                              'subspecies',\n",
    "                                                                              img_width, \n",
    "                                                                              img_height,\n",
    "                                                                              img_channels)"
   ]
  },
  {
   "cell_type": "code",
   "execution_count": 11,
   "metadata": {},
   "outputs": [
    {
     "data": {
      "text/plain": [
       "225       Italian honey bee\n",
       "2453      Italian honey bee\n",
       "3009      Italian honey bee\n",
       "3270    Carniolan honey bee\n",
       "2622      Italian honey bee\n",
       "               ...         \n",
       "1275                     -1\n",
       "1439      Italian honey bee\n",
       "1175      Italian honey bee\n",
       "2765      Italian honey bee\n",
       "189     Carniolan honey bee\n",
       "Name: subspecies, Length: 2338, dtype: category\n",
       "Categories (7, object): [-1, 1 Mixed local stock 2, Carniolan honey bee, Italian honey bee, Russian honey bee, VSH Italian honey bee, Western honey bee]"
      ]
     },
     "execution_count": 11,
     "metadata": {},
     "output_type": "execute_result"
    }
   ],
   "source": [
    "train_bees['subspecies']"
   ]
  },
  {
   "cell_type": "code",
   "execution_count": 12,
   "metadata": {},
   "outputs": [
    {
     "data": {
      "text/plain": [
       "array(['-1', '1 Mixed local stock 2', 'Carniolan honey bee',\n",
       "       'Italian honey bee', 'Russian honey bee', 'VSH Italian honey bee',\n",
       "       'Western honey bee'], dtype=object)"
      ]
     },
     "execution_count": 12,
     "metadata": {},
     "output_type": "execute_result"
    }
   ],
   "source": [
    "utils.categories['subspecies']"
   ]
  },
  {
   "cell_type": "code",
   "execution_count": 13,
   "metadata": {},
   "outputs": [
    {
     "data": {
      "text/plain": [
       "array([0, 1, 2, 3, 4, 5, 6])"
      ]
     },
     "execution_count": 13,
     "metadata": {},
     "output_type": "execute_result"
    }
   ],
   "source": [
    "utils.class_indices['subspecies']"
   ]
  },
  {
   "cell_type": "code",
   "execution_count": 14,
   "metadata": {
    "_uuid": "053d12032f6d113094617826f5f78bba8555c115"
   },
   "outputs": [
    {
     "data": {
      "text/plain": [
       "{0: 1.7553191489361701,\n",
       " 1: 1.6445182724252492,\n",
       " 2: 1.438953488372093,\n",
       " 3: 0.2462686567164179,\n",
       " 4: 1.375,\n",
       " 5: 3.3904109589041096,\n",
       " 6: 22.5}"
      ]
     },
     "execution_count": 14,
     "metadata": {},
     "output_type": "execute_result"
    }
   ],
   "source": [
    "class_weights = utils.class_weights(bees, 'subspecies')\n",
    "class_weights = dict(enumerate(class_weights))\n",
    "class_weights"
   ]
  },
  {
   "cell_type": "markdown",
   "metadata": {
    "_uuid": "f969b9f496c11dacac4583a319f3dcbd56d3a6ea"
   },
   "source": [
    "## 4.2 CNN"
   ]
  },
  {
   "cell_type": "code",
   "execution_count": 15,
   "metadata": {},
   "outputs": [],
   "source": [
    "optimizer = Adam(lr = 0.001)\n",
    "loss = 'categorical_crossentropy'"
   ]
  },
  {
   "cell_type": "code",
   "execution_count": 16,
   "metadata": {},
   "outputs": [
    {
     "data": {
      "text/plain": [
       "7"
      ]
     },
     "execution_count": 16,
     "metadata": {},
     "output_type": "execute_result"
    }
   ],
   "source": [
    "train_y.columns.size"
   ]
  },
  {
   "cell_type": "code",
   "execution_count": 17,
   "metadata": {
    "_uuid": "053d12032f6d113094617826f5f78bba8555c115"
   },
   "outputs": [],
   "source": [
    "#base_model = VGG16(weights='imagenet', include_top=False)\n",
    "\n",
    "#for layer in base_model.layers:\n",
    "#layer.trainable = False\n",
    "\n",
    "\n",
    "base_model = VGG16(include_top=False, weights='imagenet', input_shape=(img_width, img_height, img_channels))\n",
    "\n",
    "# congelo las capas del VGG16\n",
    "base_model.trainable = False\n",
    "\n",
    "#for layer in base_model.layers[:]:\n",
    " #   layer.trainable = False\n",
    "\n",
    "model_input = Input((img_height, img_width, img_channels))\n",
    "\n",
    "x = base_model (model_input, training=False)\n",
    "\n",
    "#x = keras.layers.GlobalAveragePooling2D()(x)\n",
    "x = keras.layers.Dropout(0.1)(x)  # Regularize with dropout\n",
    "\n",
    "y1 = Flatten()(x)\n",
    "y1 = Dense(train_y.columns.size, activation = 'softmax')(y1)\n",
    "\n",
    "model1 = Model(inputs=model_input, outputs=y1)\n"
   ]
  },
  {
   "cell_type": "code",
   "execution_count": 18,
   "metadata": {},
   "outputs": [
    {
     "name": "stdout",
     "output_type": "stream",
     "text": [
      "Model: \"functional_1\"\n",
      "_________________________________________________________________\n",
      "Layer (type)                 Output Shape              Param #   \n",
      "=================================================================\n",
      "input_2 (InputLayer)         [(None, 100, 100, 3)]     0         \n",
      "_________________________________________________________________\n",
      "vgg16 (Functional)           (None, 3, 3, 512)         14714688  \n",
      "_________________________________________________________________\n",
      "dropout (Dropout)            (None, 3, 3, 512)         0         \n",
      "_________________________________________________________________\n",
      "flatten (Flatten)            (None, 4608)              0         \n",
      "_________________________________________________________________\n",
      "dense (Dense)                (None, 7)                 32263     \n",
      "=================================================================\n",
      "Total params: 14,746,951\n",
      "Trainable params: 32,263\n",
      "Non-trainable params: 14,714,688\n",
      "_________________________________________________________________\n"
     ]
    }
   ],
   "source": [
    "model1.summary()"
   ]
  },
  {
   "cell_type": "code",
   "execution_count": 19,
   "metadata": {},
   "outputs": [
    {
     "name": "stdout",
     "output_type": "stream",
     "text": [
      "Model: \"vgg16\"\n",
      "_________________________________________________________________\n",
      "Layer (type)                 Output Shape              Param #   \n",
      "=================================================================\n",
      "input_1 (InputLayer)         [(None, 100, 100, 3)]     0         \n",
      "_________________________________________________________________\n",
      "block1_conv1 (Conv2D)        (None, 100, 100, 64)      1792      \n",
      "_________________________________________________________________\n",
      "block1_conv2 (Conv2D)        (None, 100, 100, 64)      36928     \n",
      "_________________________________________________________________\n",
      "block1_pool (MaxPooling2D)   (None, 50, 50, 64)        0         \n",
      "_________________________________________________________________\n",
      "block2_conv1 (Conv2D)        (None, 50, 50, 128)       73856     \n",
      "_________________________________________________________________\n",
      "block2_conv2 (Conv2D)        (None, 50, 50, 128)       147584    \n",
      "_________________________________________________________________\n",
      "block2_pool (MaxPooling2D)   (None, 25, 25, 128)       0         \n",
      "_________________________________________________________________\n",
      "block3_conv1 (Conv2D)        (None, 25, 25, 256)       295168    \n",
      "_________________________________________________________________\n",
      "block3_conv2 (Conv2D)        (None, 25, 25, 256)       590080    \n",
      "_________________________________________________________________\n",
      "block3_conv3 (Conv2D)        (None, 25, 25, 256)       590080    \n",
      "_________________________________________________________________\n",
      "block3_pool (MaxPooling2D)   (None, 12, 12, 256)       0         \n",
      "_________________________________________________________________\n",
      "block4_conv1 (Conv2D)        (None, 12, 12, 512)       1180160   \n",
      "_________________________________________________________________\n",
      "block4_conv2 (Conv2D)        (None, 12, 12, 512)       2359808   \n",
      "_________________________________________________________________\n",
      "block4_conv3 (Conv2D)        (None, 12, 12, 512)       2359808   \n",
      "_________________________________________________________________\n",
      "block4_pool (MaxPooling2D)   (None, 6, 6, 512)         0         \n",
      "_________________________________________________________________\n",
      "block5_conv1 (Conv2D)        (None, 6, 6, 512)         2359808   \n",
      "_________________________________________________________________\n",
      "block5_conv2 (Conv2D)        (None, 6, 6, 512)         2359808   \n",
      "_________________________________________________________________\n",
      "block5_conv3 (Conv2D)        (None, 6, 6, 512)         2359808   \n",
      "_________________________________________________________________\n",
      "block5_pool (MaxPooling2D)   (None, 3, 3, 512)         0         \n",
      "=================================================================\n",
      "Total params: 14,714,688\n",
      "Trainable params: 0\n",
      "Non-trainable params: 14,714,688\n",
      "_________________________________________________________________\n"
     ]
    }
   ],
   "source": [
    "base_model.summary()"
   ]
  },
  {
   "cell_type": "code",
   "execution_count": 20,
   "metadata": {},
   "outputs": [],
   "source": [
    "model1.compile(optimizer = optimizer, \n",
    "               loss = loss, \n",
    "               metrics = [utils.MacroAverageRecallMetric(num_classes = train_y.columns.size)])"
   ]
  },
  {
   "cell_type": "code",
   "execution_count": 21,
   "metadata": {},
   "outputs": [
    {
     "data": {
      "image/png": "[encoded data removed]",
      "text/plain": [
       "<IPython.core.display.Image object>"
      ]
     },
     "execution_count": 21,
     "metadata": {},
     "output_type": "execute_result"
    }
   ],
   "source": [
    "current_time = datetime.datetime.now().strftime(\"%Y%m%d_%H%M%S\")\n",
    "modelname = './models/' + model1.name + '_' + current_time\n",
    "keras.utils.plot_model(model1, to_file = modelname + '.png', show_shapes = True)"
   ]
  },
  {
   "cell_type": "markdown",
   "metadata": {},
   "source": [
    "## 4.3 Entrenamiento"
   ]
  },
  {
   "cell_type": "markdown",
   "metadata": {},
   "source": [
    "### 4.2.2 Parámetros de transformación de imágenes (data augmentation)"
   ]
  },
  {
   "cell_type": "code",
   "execution_count": 22,
   "metadata": {},
   "outputs": [],
   "source": [
    "rotation_range = 180     # rotación aleatoria en grados entre 0 a rotation_range\n",
    "zoom_range = 0.1         # zoom aleatorio\n",
    "width_shift_range = 0.1  # desplazamiento horizontal aleatorio (fracción del total)\n",
    "height_shift_range = 0.1 # desplazamiento vertical aleatorio (fracción del total)\n",
    "horizontal_flip = True   # transposición horizontal\n",
    "vertical_flip = True     # transposición horizontal"
   ]
  },
  {
   "cell_type": "code",
   "execution_count": 23,
   "metadata": {
    "_uuid": "053d12032f6d113094617826f5f78bba8555c115"
   },
   "outputs": [],
   "source": [
    "batch_size = 30\n",
    "epochs = 50\n",
    "#defino un nuevo valor de steps_per_epoch así trabajo solo con batch_size\n",
    "steps_per_epoch = train_X.shape[0] // batch_size\n",
    "#steps_per_epoch = 30\n",
    "patience = 10"
   ]
  },
  {
   "cell_type": "code",
   "execution_count": 24,
   "metadata": {},
   "outputs": [],
   "source": [
    "earlystopper = EarlyStopping(monitor='val_loss', \n",
    "                             patience=patience, verbose=1,restore_best_weights=True)\n",
    "callbacks = [earlystopper]"
   ]
  },
  {
   "cell_type": "code",
   "execution_count": 25,
   "metadata": {},
   "outputs": [
    {
     "data": {
      "text/plain": [
       "77"
      ]
     },
     "execution_count": 25,
     "metadata": {},
     "output_type": "execute_result"
    }
   ],
   "source": [
    "steps_per_epoch"
   ]
  },
  {
   "cell_type": "code",
   "execution_count": 26,
   "metadata": {},
   "outputs": [
    {
     "data": {
      "text/plain": [
       "(2338, 100, 100, 3)"
      ]
     },
     "execution_count": 26,
     "metadata": {},
     "output_type": "execute_result"
    }
   ],
   "source": [
    "train_X.shape"
   ]
  },
  {
   "cell_type": "code",
   "execution_count": 27,
   "metadata": {},
   "outputs": [],
   "source": [
    "filepath = './checkpoints/' + model1.name + '_' + current_time + '_{epoch:02d}_{val_loss:.2f}.h5'\n",
    "checkpoint = ModelCheckpoint(filepath, \n",
    "                             monitor=\"val_loss\", verbose=1, save_best_only=True)\n",
    "callbacks.append(checkpoint)"
   ]
  },
  {
   "cell_type": "code",
   "execution_count": 28,
   "metadata": {},
   "outputs": [],
   "source": [
    "bestepoch = utils.BestEpochCallback()\n",
    "callbacks.append(bestepoch)"
   ]
  },
  {
   "cell_type": "code",
   "execution_count": 29,
   "metadata": {
    "_uuid": "053d12032f6d113094617826f5f78bba8555c115"
   },
   "outputs": [
    {
     "name": "stdout",
     "output_type": "stream",
     "text": [
      "Epoch 1/50\n",
      "77/77 [==============================] - ETA: 0s - loss: 1.5364 - macro: 0.4650\n",
      "Epoch 00001: val_loss improved from inf to 1.23701, saving model to ./checkpoints/functional_1_20201125_171626_01_1.24.h5\n",
      "77/77 [==============================] - 17s 223ms/step - loss: 1.5364 - macro: 0.4650 - val_loss: 1.2370 - val_macro: 0.4784\n",
      "Epoch 2/50\n",
      "77/77 [==============================] - ETA: 0s - loss: 0.9142 - macro: 0.5780\n",
      "Epoch 00002: val_loss improved from 1.23701 to 0.98621, saving model to ./checkpoints/functional_1_20201125_171626_02_0.99.h5\n",
      "77/77 [==============================] - 16s 214ms/step - loss: 0.9142 - macro: 0.5780 - val_loss: 0.9862 - val_macro: 0.5855\n",
      "Epoch 3/50\n",
      "77/77 [==============================] - ETA: 0s - loss: 0.8068 - macro: 0.6218\n",
      "Epoch 00003: val_loss improved from 0.98621 to 0.89376, saving model to ./checkpoints/functional_1_20201125_171626_03_0.89.h5\n",
      "77/77 [==============================] - 16s 206ms/step - loss: 0.8068 - macro: 0.6218 - val_loss: 0.8938 - val_macro: 0.6267\n",
      "Epoch 4/50\n",
      "77/77 [==============================] - ETA: 0s - loss: 0.6645 - macro: 0.6570\n",
      "Epoch 00004: val_loss improved from 0.89376 to 0.74196, saving model to ./checkpoints/functional_1_20201125_171626_04_0.74.h5\n",
      "77/77 [==============================] - 16s 211ms/step - loss: 0.6645 - macro: 0.6570 - val_loss: 0.7420 - val_macro: 0.6592\n",
      "Epoch 5/50\n",
      "77/77 [==============================] - ETA: 0s - loss: 0.6181 - macro: 0.6857\n",
      "Epoch 00005: val_loss did not improve from 0.74196\n",
      "77/77 [==============================] - 16s 211ms/step - loss: 0.6181 - macro: 0.6857 - val_loss: 0.9952 - val_macro: 0.6874\n",
      "Epoch 6/50\n",
      "77/77 [==============================] - ETA: 0s - loss: 0.5795 - macro: 0.7090\n",
      "Epoch 00006: val_loss did not improve from 0.74196\n",
      "77/77 [==============================] - 16s 211ms/step - loss: 0.5795 - macro: 0.7090 - val_loss: 0.9104 - val_macro: 0.7102\n",
      "Epoch 7/50\n",
      "77/77 [==============================] - ETA: 0s - loss: 0.5606 - macro: 0.7229\n",
      "Epoch 00007: val_loss did not improve from 0.74196\n",
      "77/77 [==============================] - 16s 209ms/step - loss: 0.5606 - macro: 0.7229 - val_loss: 1.1496 - val_macro: 0.7235\n",
      "Epoch 8/50\n",
      "77/77 [==============================] - ETA: 0s - loss: 0.5208 - macro: 0.7360\n",
      "Epoch 00008: val_loss did not improve from 0.74196\n",
      "77/77 [==============================] - 16s 209ms/step - loss: 0.5208 - macro: 0.7360 - val_loss: 1.2521 - val_macro: 0.7367\n",
      "Epoch 9/50\n",
      "77/77 [==============================] - ETA: 0s - loss: 0.4687 - macro: 0.7498\n",
      "Epoch 00009: val_loss improved from 0.74196 to 0.66941, saving model to ./checkpoints/functional_1_20201125_171626_09_0.67.h5\n",
      "77/77 [==============================] - 16s 210ms/step - loss: 0.4687 - macro: 0.7498 - val_loss: 0.6694 - val_macro: 0.7506\n",
      "Epoch 10/50\n",
      "77/77 [==============================] - ETA: 0s - loss: 0.4932 - macro: 0.7589\n",
      "Epoch 00010: val_loss did not improve from 0.66941\n",
      "77/77 [==============================] - 16s 211ms/step - loss: 0.4932 - macro: 0.7589 - val_loss: 0.9893 - val_macro: 0.7594\n",
      "Epoch 11/50\n",
      "77/77 [==============================] - ETA: 0s - loss: 0.4401 - macro: 0.7683\n",
      "Epoch 00011: val_loss did not improve from 0.66941\n",
      "77/77 [==============================] - 16s 209ms/step - loss: 0.4401 - macro: 0.7683 - val_loss: 1.0639 - val_macro: 0.7687\n",
      "Epoch 12/50\n",
      "77/77 [==============================] - ETA: 0s - loss: 0.4583 - macro: 0.7742\n",
      "Epoch 00012: val_loss improved from 0.66941 to 0.66207, saving model to ./checkpoints/functional_1_20201125_171626_12_0.66.h5\n",
      "77/77 [==============================] - 16s 211ms/step - loss: 0.4583 - macro: 0.7742 - val_loss: 0.6621 - val_macro: 0.7748\n",
      "Epoch 13/50\n",
      "77/77 [==============================] - ETA: 0s - loss: 0.4479 - macro: 0.7799\n",
      "Epoch 00013: val_loss did not improve from 0.66207\n",
      "77/77 [==============================] - 16s 209ms/step - loss: 0.4479 - macro: 0.7799 - val_loss: 0.8147 - val_macro: 0.7802\n",
      "Epoch 14/50\n",
      "77/77 [==============================] - ETA: 0s - loss: 0.4274 - macro: 0.7856\n",
      "Epoch 00014: val_loss did not improve from 0.66207\n",
      "77/77 [==============================] - 16s 208ms/step - loss: 0.4274 - macro: 0.7856 - val_loss: 0.7530 - val_macro: 0.7859\n",
      "Epoch 15/50\n",
      "77/77 [==============================] - ETA: 0s - loss: 0.4296 - macro: 0.7903\n",
      "Epoch 00015: val_loss did not improve from 0.66207\n",
      "77/77 [==============================] - 16s 210ms/step - loss: 0.4296 - macro: 0.7903 - val_loss: 0.8032 - val_macro: 0.7906\n",
      "Epoch 16/50\n",
      "77/77 [==============================] - ETA: 0s - loss: 0.4008 - macro: 0.7946\n",
      "Epoch 00016: val_loss improved from 0.66207 to 0.64484, saving model to ./checkpoints/functional_1_20201125_171626_16_0.64.h5\n",
      "77/77 [==============================] - 16s 207ms/step - loss: 0.4008 - macro: 0.7946 - val_loss: 0.6448 - val_macro: 0.7949\n",
      "Epoch 17/50\n",
      "77/77 [==============================] - ETA: 0s - loss: 0.4277 - macro: 0.7978\n",
      "Epoch 00017: val_loss did not improve from 0.64484\n",
      "77/77 [==============================] - 16s 205ms/step - loss: 0.4277 - macro: 0.7978 - val_loss: 0.6674 - val_macro: 0.7981\n",
      "Epoch 18/50\n",
      "77/77 [==============================] - ETA: 0s - loss: 0.4209 - macro: 0.8011\n",
      "Epoch 00018: val_loss did not improve from 0.64484\n",
      "77/77 [==============================] - 16s 207ms/step - loss: 0.4209 - macro: 0.8011 - val_loss: 0.6914 - val_macro: 0.8014\n",
      "Epoch 19/50\n",
      "77/77 [==============================] - ETA: 0s - loss: 0.3801 - macro: 0.8048\n",
      "Epoch 00019: val_loss did not improve from 0.64484\n",
      "77/77 [==============================] - 16s 214ms/step - loss: 0.3801 - macro: 0.8048 - val_loss: 0.8718 - val_macro: 0.8050\n",
      "Epoch 20/50\n",
      "77/77 [==============================] - ETA: 0s - loss: 0.3521 - macro: 0.8084\n",
      "Epoch 00020: val_loss did not improve from 0.64484\n",
      "77/77 [==============================] - 16s 209ms/step - loss: 0.3521 - macro: 0.8084 - val_loss: 0.7833 - val_macro: 0.8087\n",
      "Epoch 21/50\n",
      "77/77 [==============================] - ETA: 0s - loss: 0.3497 - macro: 0.8121\n",
      "Epoch 00021: val_loss improved from 0.64484 to 0.60762, saving model to ./checkpoints/functional_1_20201125_171626_21_0.61.h5\n",
      "77/77 [==============================] - 16s 209ms/step - loss: 0.3497 - macro: 0.8121 - val_loss: 0.6076 - val_macro: 0.8124\n",
      "Epoch 22/50\n",
      "77/77 [==============================] - ETA: 0s - loss: 0.3556 - macro: 0.8155\n",
      "Epoch 00022: val_loss did not improve from 0.60762\n",
      "77/77 [==============================] - 16s 212ms/step - loss: 0.3556 - macro: 0.8155 - val_loss: 0.7195 - val_macro: 0.8157\n",
      "Epoch 23/50\n",
      "77/77 [==============================] - ETA: 0s - loss: 0.3354 - macro: 0.8189\n",
      "Epoch 00023: val_loss did not improve from 0.60762\n",
      "77/77 [==============================] - 16s 209ms/step - loss: 0.3354 - macro: 0.8189 - val_loss: 1.1247 - val_macro: 0.8190\n",
      "Epoch 24/50\n",
      "77/77 [==============================] - ETA: 0s - loss: 0.3406 - macro: 0.8218\n",
      "Epoch 00024: val_loss did not improve from 0.60762\n",
      "77/77 [==============================] - 16s 208ms/step - loss: 0.3406 - macro: 0.8218 - val_loss: 0.7349 - val_macro: 0.8220\n",
      "Epoch 25/50\n",
      "77/77 [==============================] - ETA: 0s - loss: 0.3112 - macro: 0.8249\n",
      "Epoch 00025: val_loss did not improve from 0.60762\n",
      "77/77 [==============================] - 16s 209ms/step - loss: 0.3112 - macro: 0.8249 - val_loss: 0.7175 - val_macro: 0.8250\n",
      "Epoch 26/50\n",
      "77/77 [==============================] - ETA: 0s - loss: 0.3336 - macro: 0.8272\n",
      "Epoch 00026: val_loss did not improve from 0.60762\n",
      "77/77 [==============================] - 16s 208ms/step - loss: 0.3336 - macro: 0.8272 - val_loss: 0.8658 - val_macro: 0.8274\n",
      "Epoch 27/50\n",
      "77/77 [==============================] - ETA: 0s - loss: 0.3575 - macro: 0.8287\n",
      "Epoch 00027: val_loss did not improve from 0.60762\n",
      "77/77 [==============================] - 16s 209ms/step - loss: 0.3575 - macro: 0.8287 - val_loss: 0.7881 - val_macro: 0.8288\n",
      "Epoch 28/50\n",
      "77/77 [==============================] - ETA: 0s - loss: 0.3384 - macro: 0.8303\n",
      "Epoch 00028: val_loss improved from 0.60762 to 0.56268, saving model to ./checkpoints/functional_1_20201125_171626_28_0.56.h5\n",
      "77/77 [==============================] - 16s 211ms/step - loss: 0.3384 - macro: 0.8303 - val_loss: 0.5627 - val_macro: 0.8304\n"
     ]
    },
    {
     "name": "stdout",
     "output_type": "stream",
     "text": [
      "Epoch 29/50\n",
      "77/77 [==============================] - ETA: 0s - loss: 0.3271 - macro: 0.8323\n",
      "Epoch 00029: val_loss did not improve from 0.56268\n",
      "77/77 [==============================] - 16s 213ms/step - loss: 0.3271 - macro: 0.8323 - val_loss: 0.7652 - val_macro: 0.8324\n",
      "Epoch 30/50\n",
      "77/77 [==============================] - ETA: 0s - loss: 0.3521 - macro: 0.8340\n",
      "Epoch 00030: val_loss did not improve from 0.56268\n",
      "77/77 [==============================] - 16s 213ms/step - loss: 0.3521 - macro: 0.8340 - val_loss: 0.7493 - val_macro: 0.8341\n",
      "Epoch 31/50\n",
      "77/77 [==============================] - ETA: 0s - loss: 0.3158 - macro: 0.8361\n",
      "Epoch 00031: val_loss did not improve from 0.56268\n",
      "77/77 [==============================] - 16s 214ms/step - loss: 0.3158 - macro: 0.8361 - val_loss: 0.6424 - val_macro: 0.8362\n",
      "Epoch 32/50\n",
      "77/77 [==============================] - ETA: 0s - loss: 0.3208 - macro: 0.8374\n",
      "Epoch 00032: val_loss did not improve from 0.56268\n",
      "77/77 [==============================] - 16s 206ms/step - loss: 0.3208 - macro: 0.8374 - val_loss: 0.6435 - val_macro: 0.8375\n",
      "Epoch 33/50\n",
      "77/77 [==============================] - ETA: 0s - loss: 0.3297 - macro: 0.8387\n",
      "Epoch 00033: val_loss did not improve from 0.56268\n",
      "77/77 [==============================] - 16s 209ms/step - loss: 0.3297 - macro: 0.8387 - val_loss: 0.6719 - val_macro: 0.8388\n",
      "Epoch 34/50\n",
      "77/77 [==============================] - ETA: 0s - loss: 0.3145 - macro: 0.8402\n",
      "Epoch 00034: val_loss did not improve from 0.56268\n",
      "77/77 [==============================] - 16s 210ms/step - loss: 0.3145 - macro: 0.8402 - val_loss: 0.6133 - val_macro: 0.8403\n",
      "Epoch 35/50\n",
      "77/77 [==============================] - ETA: 0s - loss: 0.3304 - macro: 0.8415\n",
      "Epoch 00035: val_loss did not improve from 0.56268\n",
      "77/77 [==============================] - 16s 208ms/step - loss: 0.3304 - macro: 0.8415 - val_loss: 0.7234 - val_macro: 0.8416\n",
      "Epoch 36/50\n",
      "77/77 [==============================] - ETA: 0s - loss: 0.2822 - macro: 0.8433\n",
      "Epoch 00036: val_loss did not improve from 0.56268\n",
      "77/77 [==============================] - 16s 208ms/step - loss: 0.2822 - macro: 0.8433 - val_loss: 0.5822 - val_macro: 0.8434\n",
      "Epoch 37/50\n",
      "77/77 [==============================] - ETA: 0s - loss: 0.3595 - macro: 0.8443\n",
      "Epoch 00037: val_loss did not improve from 0.56268\n",
      "77/77 [==============================] - 16s 211ms/step - loss: 0.3595 - macro: 0.8443 - val_loss: 0.7876 - val_macro: 0.8444\n",
      "Epoch 38/50\n",
      "77/77 [==============================] - ETA: 0s - loss: 0.3322 - macro: 0.8451Restoring model weights from the end of the best epoch.\n",
      "\n",
      "Epoch 00038: val_loss did not improve from 0.56268\n",
      "77/77 [==============================] - 17s 215ms/step - loss: 0.3322 - macro: 0.8451 - val_loss: 0.8950 - val_macro: 0.8452\n",
      "Epoch 00038: early stopping\n",
      "--- Early stopping best epoch    28 with loss 0.5627\n"
     ]
    }
   ],
   "source": [
    "training1, model1 = utils.train(model1,\n",
    "                                train_X, \n",
    "                                train_y, \n",
    "                                batch_size = batch_size,\n",
    "                                epochs = epochs,\n",
    "                                validation_data_X = val_X, \n",
    "                                validation_data_y = val_y,\n",
    "                                steps_per_epoch = steps_per_epoch,\n",
    "                                rotation_range = rotation_range,\n",
    "                                zoom_range = zoom_range, \n",
    "                                width_shift_range = width_shift_range,\n",
    "                                height_shift_range = height_shift_range,\n",
    "                                horizontal_flip = horizontal_flip,  \n",
    "                                vertical_flip = vertical_flip,\n",
    "                                callbacks = callbacks,\n",
    "                                class_weights = class_weights\n",
    "                               )"
   ]
  },
  {
   "cell_type": "markdown",
   "metadata": {
    "_uuid": "ac639c24adf884c806ce1ab985fe7db7e9aab26a"
   },
   "source": [
    "## 4.3 Evaluación del modelo"
   ]
  },
  {
   "cell_type": "code",
   "execution_count": 30,
   "metadata": {
    "_uuid": "b096e119c62a41dc227ad9f12131ca0c28dbed8b"
   },
   "outputs": [
    {
     "data": {
      "image/png": "[encoded data removed]",
      "text/plain": [
       "<Figure size 360x360 with 2 Axes>"
      ]
     },
     "metadata": {
      "needs_background": "light"
     },
     "output_type": "display_data"
    },
    {
     "data": {
      "image/png": "[encoded data removed]",
      "text/plain": [
       "<Figure size 432x288 with 1 Axes>"
      ]
     },
     "metadata": {
      "needs_background": "light"
     },
     "output_type": "display_data"
    },
    {
     "name": "stdout",
     "output_type": "stream",
     "text": [
      "Classification report\n",
      "                       precision    recall  f1-score   support\n",
      "\n",
      "                   -1       0.50      0.89      0.64        70\n",
      "1 Mixed local stock 2       0.68      0.75      0.72        69\n",
      "  Carniolan honey bee       0.94      0.91      0.93        92\n",
      "    Italian honey bee       0.91      0.72      0.81       490\n",
      "    Russian honey bee       0.85      0.90      0.88       110\n",
      "VSH Italian honey bee       0.47      0.93      0.63        29\n",
      "    Western honey bee       0.35      1.00      0.52         7\n",
      "\n",
      "             accuracy                           0.79       867\n",
      "            macro avg       0.67      0.87      0.73       867\n",
      "         weighted avg       0.84      0.79      0.80       867\n",
      "\n",
      "Loss function: 0.515125036239624\n"
     ]
    }
   ],
   "source": [
    "utils.eval_model(training1, model1, test_X, test_y, 'subspecies')"
   ]
  },
  {
   "cell_type": "code",
   "execution_count": 31,
   "metadata": {},
   "outputs": [],
   "source": [
    "trainedmodelname = modelname + '_{:02d}_{:.2f}.h5'.format(bestepoch.best_epoch, bestepoch.best_loss)\n",
    "model1.save(trainedmodelname)"
   ]
  },
  {
   "cell_type": "code",
   "execution_count": 32,
   "metadata": {},
   "outputs": [],
   "source": [
    "saved_model = keras.models.load_model(trainedmodelname, \n",
    "                                      custom_objects = {'MacroAverageRecallMetric' : utils.MacroAverageRecallMetric})"
   ]
  },
  {
   "cell_type": "code",
   "execution_count": 33,
   "metadata": {},
   "outputs": [
    {
     "data": {
      "text/html": [
       "<div>\n",
       "<style scoped>\n",
       "    .dataframe tbody tr th:only-of-type {\n",
       "        vertical-align: middle;\n",
       "    }\n",
       "\n",
       "    .dataframe tbody tr th {\n",
       "        vertical-align: top;\n",
       "    }\n",
       "\n",
       "    .dataframe thead th {\n",
       "        text-align: right;\n",
       "    }\n",
       "</style>\n",
       "<table border=\"1\" class=\"dataframe\">\n",
       "  <thead>\n",
       "    <tr style=\"text-align: right;\">\n",
       "      <th></th>\n",
       "      <th>id</th>\n",
       "      <th>expected</th>\n",
       "    </tr>\n",
       "  </thead>\n",
       "  <tbody>\n",
       "    <tr>\n",
       "      <th>0</th>\n",
       "      <td>0</td>\n",
       "      <td>-1</td>\n",
       "    </tr>\n",
       "    <tr>\n",
       "      <th>1</th>\n",
       "      <td>1</td>\n",
       "      <td>Italian honey bee</td>\n",
       "    </tr>\n",
       "    <tr>\n",
       "      <th>2</th>\n",
       "      <td>2</td>\n",
       "      <td>1 Mixed local stock 2</td>\n",
       "    </tr>\n",
       "    <tr>\n",
       "      <th>3</th>\n",
       "      <td>3</td>\n",
       "      <td>Italian honey bee</td>\n",
       "    </tr>\n",
       "    <tr>\n",
       "      <th>4</th>\n",
       "      <td>4</td>\n",
       "      <td>Italian honey bee</td>\n",
       "    </tr>\n",
       "    <tr>\n",
       "      <th>...</th>\n",
       "      <td>...</td>\n",
       "      <td>...</td>\n",
       "    </tr>\n",
       "    <tr>\n",
       "      <th>1702</th>\n",
       "      <td>1702</td>\n",
       "      <td>-1</td>\n",
       "    </tr>\n",
       "    <tr>\n",
       "      <th>1703</th>\n",
       "      <td>1703</td>\n",
       "      <td>1 Mixed local stock 2</td>\n",
       "    </tr>\n",
       "    <tr>\n",
       "      <th>1704</th>\n",
       "      <td>1704</td>\n",
       "      <td>-1</td>\n",
       "    </tr>\n",
       "    <tr>\n",
       "      <th>1705</th>\n",
       "      <td>1705</td>\n",
       "      <td>Carniolan honey bee</td>\n",
       "    </tr>\n",
       "    <tr>\n",
       "      <th>1706</th>\n",
       "      <td>1706</td>\n",
       "      <td>-1</td>\n",
       "    </tr>\n",
       "  </tbody>\n",
       "</table>\n",
       "<p>1707 rows × 2 columns</p>\n",
       "</div>"
      ],
      "text/plain": [
       "        id               expected\n",
       "0        0                     -1\n",
       "1        1      Italian honey bee\n",
       "2        2  1 Mixed local stock 2\n",
       "3        3      Italian honey bee\n",
       "4        4      Italian honey bee\n",
       "...    ...                    ...\n",
       "1702  1702                     -1\n",
       "1703  1703  1 Mixed local stock 2\n",
       "1704  1704                     -1\n",
       "1705  1705    Carniolan honey bee\n",
       "1706  1706                     -1\n",
       "\n",
       "[1707 rows x 2 columns]"
      ]
     },
     "execution_count": 33,
     "metadata": {},
     "output_type": "execute_result"
    }
   ],
   "source": [
    "df_subspecies = utils.load_test_and_generate_prediction_file(model1, img_width, img_height, img_channels, 'subspecies')\n",
    "df_subspecies"
   ]
  },
  {
   "cell_type": "code",
   "execution_count": null,
   "metadata": {},
   "outputs": [],
   "source": []
  }
 ],
 "metadata": {
  "kernelspec": {
   "display_name": "Python 3",
   "language": "python",
   "name": "python3"
  },
  "language_info": {
   "codemirror_mode": {
    "name": "ipython",
    "version": 3
   },
   "file_extension": ".py",
   "mimetype": "text/x-python",
   "name": "python",
   "nbconvert_exporter": "python",
   "pygments_lexer": "ipython3",
   "version": "3.7.6"
  }
 },
 "nbformat": 4,
 "nbformat_minor": 1
}

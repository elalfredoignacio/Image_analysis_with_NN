{
 "cells": [
  {
   "cell_type": "markdown",
   "metadata": {
    "_uuid": "63fa02cc6f3a2593013a53dcd20bdd9c54533efb"
   },
   "source": [
    "# 1. Setup"
   ]
  },
  {
   "cell_type": "markdown",
   "metadata": {},
   "source": [
    "## 1.1 Imports"
   ]
  },
  {
   "cell_type": "code",
   "execution_count": 1,
   "metadata": {
    "_cell_guid": "b1076dfc-b9ad-4769-8c92-a6c4dae69d19",
    "_uuid": "8f2839f25d086af736a60e9eeb907d3b93b6e0e5"
   },
   "outputs": [],
   "source": [
    "import numpy as np\n",
    "\n",
    "from tensorflow.keras.applications.vgg16 import VGG16\n",
    "from tensorflow.keras.applications.vgg19 import VGG19\n",
    "from tensorflow.keras.applications.xception import Xception\n",
    "\n",
    "\n",
    "\n",
    "import tensorflow.keras as keras\n",
    "from tensorflow.keras.models import Sequential, Model\n",
    "from tensorflow.keras.layers import Dense, Conv2D, Flatten, MaxPool2D, Dropout, Input, Activation, GlobalAveragePooling2D\n",
    "from tensorflow.keras.callbacks import EarlyStopping, ModelCheckpoint\n",
    "from tensorflow.keras.optimizers import Adam\n",
    "import tensorflow as tf\n",
    "\n",
    "import bees_utils_macro as utils\n",
    "import datetime\n"
   ]
  },
  {
   "cell_type": "markdown",
   "metadata": {
    "_cell_guid": "b1076dfc-b9ad-4769-8c92-a6c4dae69d19",
    "_uuid": "8f2839f25d086af736a60e9eeb907d3b93b6e0e5"
   },
   "source": [
    "## 1.2 Set random seeds"
   ]
  },
  {
   "cell_type": "code",
   "execution_count": 2,
   "metadata": {
    "_cell_guid": "b1076dfc-b9ad-4769-8c92-a6c4dae69d19",
    "_uuid": "8f2839f25d086af736a60e9eeb907d3b93b6e0e5"
   },
   "outputs": [],
   "source": [
    "np.random.seed(117)\n",
    "tf.random.set_seed(117)"
   ]
  },
  {
   "cell_type": "markdown",
   "metadata": {
    "_cell_guid": "b1076dfc-b9ad-4769-8c92-a6c4dae69d19",
    "_uuid": "8f2839f25d086af736a60e9eeb907d3b93b6e0e5"
   },
   "source": [
    "## 1.3 Global variables"
   ]
  },
  {
   "cell_type": "code",
   "execution_count": 3,
   "metadata": {
    "_cell_guid": "b1076dfc-b9ad-4769-8c92-a6c4dae69d19",
    "_uuid": "8f2839f25d086af736a60e9eeb907d3b93b6e0e5"
   },
   "outputs": [],
   "source": [
    "img_width = 100\n",
    "img_height = 100\n",
    "img_channels = 3"
   ]
  },
  {
   "cell_type": "markdown",
   "metadata": {
    "_cell_guid": "79c7e3d0-c299-4dcb-8224-4455121ee9b0",
    "_uuid": "d629ff2d2480ee46fbb7e2d37f6b5fab8052498a"
   },
   "source": [
    "# 2. Carga de datos"
   ]
  },
  {
   "cell_type": "code",
   "execution_count": 4,
   "metadata": {
    "_uuid": "5d69ff10797c793abb7c5a05594f8d3463769995"
   },
   "outputs": [],
   "source": [
    "bees, bees_test_for_evaluation = utils.read_data()"
   ]
  },
  {
   "cell_type": "code",
   "execution_count": 5,
   "metadata": {
    "_uuid": "5d69ff10797c793abb7c5a05594f8d3463769995",
    "scrolled": true
   },
   "outputs": [
    {
     "data": {
      "text/html": [
       "<div>\n",
       "<style scoped>\n",
       "    .dataframe tbody tr th:only-of-type {\n",
       "        vertical-align: middle;\n",
       "    }\n",
       "\n",
       "    .dataframe tbody tr th {\n",
       "        vertical-align: top;\n",
       "    }\n",
       "\n",
       "    .dataframe thead th {\n",
       "        text-align: right;\n",
       "    }\n",
       "</style>\n",
       "<table border=\"1\" class=\"dataframe\">\n",
       "  <thead>\n",
       "    <tr style=\"text-align: right;\">\n",
       "      <th></th>\n",
       "      <th>id</th>\n",
       "      <th>datetime</th>\n",
       "      <th>file</th>\n",
       "      <th>location</th>\n",
       "      <th>zip code</th>\n",
       "      <th>subspecies</th>\n",
       "      <th>health</th>\n",
       "      <th>pollen_carrying</th>\n",
       "      <th>caste</th>\n",
       "    </tr>\n",
       "  </thead>\n",
       "  <tbody>\n",
       "    <tr>\n",
       "      <th>0</th>\n",
       "      <td>0</td>\n",
       "      <td>2018-08-06 14:48:00</td>\n",
       "      <td>020_011.png</td>\n",
       "      <td>Saratoga, CA, USA</td>\n",
       "      <td>95070</td>\n",
       "      <td>Italian honey bee</td>\n",
       "      <td>healthy</td>\n",
       "      <td>False</td>\n",
       "      <td>worker</td>\n",
       "    </tr>\n",
       "    <tr>\n",
       "      <th>1</th>\n",
       "      <td>1</td>\n",
       "      <td>2018-08-21 09:00:00</td>\n",
       "      <td>032_507.png</td>\n",
       "      <td>Des Moines, IA, USA</td>\n",
       "      <td>50315</td>\n",
       "      <td>Russian honey bee</td>\n",
       "      <td>healthy</td>\n",
       "      <td>False</td>\n",
       "      <td>worker</td>\n",
       "    </tr>\n",
       "    <tr>\n",
       "      <th>2</th>\n",
       "      <td>2</td>\n",
       "      <td>2018-08-21 09:00:00</td>\n",
       "      <td>032_612.png</td>\n",
       "      <td>Des Moines, IA, USA</td>\n",
       "      <td>50315</td>\n",
       "      <td>Russian honey bee</td>\n",
       "      <td>healthy</td>\n",
       "      <td>False</td>\n",
       "      <td>worker</td>\n",
       "    </tr>\n",
       "    <tr>\n",
       "      <th>3</th>\n",
       "      <td>3</td>\n",
       "      <td>2018-08-17 17:50:00</td>\n",
       "      <td>030_773.png</td>\n",
       "      <td>Alvin, TX, USA</td>\n",
       "      <td>77511</td>\n",
       "      <td>Italian honey bee</td>\n",
       "      <td>ant problems</td>\n",
       "      <td>False</td>\n",
       "      <td>worker</td>\n",
       "    </tr>\n",
       "    <tr>\n",
       "      <th>4</th>\n",
       "      <td>4</td>\n",
       "      <td>2018-08-06 13:19:00</td>\n",
       "      <td>015_1052.png</td>\n",
       "      <td>Saratoga, CA, USA</td>\n",
       "      <td>95070</td>\n",
       "      <td>Italian honey bee</td>\n",
       "      <td>healthy</td>\n",
       "      <td>False</td>\n",
       "      <td>worker</td>\n",
       "    </tr>\n",
       "  </tbody>\n",
       "</table>\n",
       "</div>"
      ],
      "text/plain": [
       "   id             datetime          file             location  zip code  \\\n",
       "0   0  2018-08-06 14:48:00   020_011.png    Saratoga, CA, USA     95070   \n",
       "1   1  2018-08-21 09:00:00   032_507.png  Des Moines, IA, USA     50315   \n",
       "2   2  2018-08-21 09:00:00   032_612.png  Des Moines, IA, USA     50315   \n",
       "3   3  2018-08-17 17:50:00   030_773.png       Alvin, TX, USA     77511   \n",
       "4   4  2018-08-06 13:19:00  015_1052.png    Saratoga, CA, USA     95070   \n",
       "\n",
       "          subspecies        health  pollen_carrying   caste  \n",
       "0  Italian honey bee       healthy            False  worker  \n",
       "1  Russian honey bee       healthy            False  worker  \n",
       "2  Russian honey bee       healthy            False  worker  \n",
       "3  Italian honey bee  ant problems            False  worker  \n",
       "4  Italian honey bee       healthy            False  worker  "
      ]
     },
     "execution_count": 5,
     "metadata": {},
     "output_type": "execute_result"
    }
   ],
   "source": [
    "bees.head()"
   ]
  },
  {
   "cell_type": "code",
   "execution_count": 6,
   "metadata": {},
   "outputs": [
    {
     "data": {
      "text/html": [
       "<div>\n",
       "<style scoped>\n",
       "    .dataframe tbody tr th:only-of-type {\n",
       "        vertical-align: middle;\n",
       "    }\n",
       "\n",
       "    .dataframe tbody tr th {\n",
       "        vertical-align: top;\n",
       "    }\n",
       "\n",
       "    .dataframe thead th {\n",
       "        text-align: right;\n",
       "    }\n",
       "</style>\n",
       "<table border=\"1\" class=\"dataframe\">\n",
       "  <thead>\n",
       "    <tr style=\"text-align: right;\">\n",
       "      <th></th>\n",
       "      <th>id</th>\n",
       "      <th>datetime</th>\n",
       "      <th>file</th>\n",
       "      <th>location</th>\n",
       "      <th>zip code</th>\n",
       "      <th>pollen_carrying</th>\n",
       "      <th>caste</th>\n",
       "    </tr>\n",
       "  </thead>\n",
       "  <tbody>\n",
       "    <tr>\n",
       "      <th>0</th>\n",
       "      <td>0</td>\n",
       "      <td>2018-08-28 16:07:00</td>\n",
       "      <td>042_012.png</td>\n",
       "      <td>Alvin, TX, USA</td>\n",
       "      <td>77511</td>\n",
       "      <td>False</td>\n",
       "      <td>worker</td>\n",
       "    </tr>\n",
       "    <tr>\n",
       "      <th>1</th>\n",
       "      <td>1</td>\n",
       "      <td>2018-08-10 13:54:00</td>\n",
       "      <td>022_114.png</td>\n",
       "      <td>Saratoga, CA, USA</td>\n",
       "      <td>95070</td>\n",
       "      <td>False</td>\n",
       "      <td>worker</td>\n",
       "    </tr>\n",
       "    <tr>\n",
       "      <th>2</th>\n",
       "      <td>2</td>\n",
       "      <td>2018-08-18 12:30:00</td>\n",
       "      <td>038_384.png</td>\n",
       "      <td>Athens, Georgia, USA</td>\n",
       "      <td>30607</td>\n",
       "      <td>False</td>\n",
       "      <td>worker</td>\n",
       "    </tr>\n",
       "    <tr>\n",
       "      <th>3</th>\n",
       "      <td>3</td>\n",
       "      <td>2018-08-17 17:50:00</td>\n",
       "      <td>030_740.png</td>\n",
       "      <td>Alvin, TX, USA</td>\n",
       "      <td>77511</td>\n",
       "      <td>False</td>\n",
       "      <td>worker</td>\n",
       "    </tr>\n",
       "    <tr>\n",
       "      <th>4</th>\n",
       "      <td>4</td>\n",
       "      <td>2018-07-07 12:56:00</td>\n",
       "      <td>005_310.png</td>\n",
       "      <td>Saratoga, CA, USA</td>\n",
       "      <td>95070</td>\n",
       "      <td>False</td>\n",
       "      <td>worker</td>\n",
       "    </tr>\n",
       "  </tbody>\n",
       "</table>\n",
       "</div>"
      ],
      "text/plain": [
       "   id             datetime         file              location  zip code  \\\n",
       "0   0  2018-08-28 16:07:00  042_012.png        Alvin, TX, USA     77511   \n",
       "1   1  2018-08-10 13:54:00  022_114.png     Saratoga, CA, USA     95070   \n",
       "2   2  2018-08-18 12:30:00  038_384.png  Athens, Georgia, USA     30607   \n",
       "3   3  2018-08-17 17:50:00  030_740.png        Alvin, TX, USA     77511   \n",
       "4   4  2018-07-07 12:56:00  005_310.png     Saratoga, CA, USA     95070   \n",
       "\n",
       "   pollen_carrying   caste  \n",
       "0            False  worker  \n",
       "1            False  worker  \n",
       "2            False  worker  \n",
       "3            False  worker  \n",
       "4            False  worker  "
      ]
     },
     "execution_count": 6,
     "metadata": {},
     "output_type": "execute_result"
    }
   ],
   "source": [
    "bees_test_for_evaluation.head()"
   ]
  },
  {
   "cell_type": "markdown",
   "metadata": {
    "_uuid": "1419a5e71da60223177d900fd0e432e46bfa67a0"
   },
   "source": [
    "# 3. Análisis exploratorio de datos"
   ]
  },
  {
   "cell_type": "markdown",
   "metadata": {},
   "source": [
    "## 3.1 Análisis descriptivo: Distribuciones, Scatterplots, Barplots..."
   ]
  },
  {
   "cell_type": "code",
   "execution_count": 7,
   "metadata": {},
   "outputs": [
    {
     "data": {
      "image/png": "[encoded data removed]",
      "text/plain": [
       "<Figure size 432x288 with 1 Axes>"
      ]
     },
     "metadata": {
      "needs_background": "light"
     },
     "output_type": "display_data"
    }
   ],
   "source": [
    "utils.value_counts(bees, 'health')"
   ]
  },
  {
   "cell_type": "markdown",
   "metadata": {
    "_uuid": "d750593ed655926232fabd8653ebadde62b19b31"
   },
   "source": [
    "## 3.2 Ver imágenes"
   ]
  },
  {
   "cell_type": "code",
   "execution_count": 8,
   "metadata": {},
   "outputs": [
    {
     "data": {
      "image/png": "[encoded data removed]",
      "text/plain": [
       "<Figure size 1440x360 with 5 Axes>"
      ]
     },
     "metadata": {
      "needs_background": "light"
     },
     "output_type": "display_data"
    }
   ],
   "source": [
    "utils.plot_images(bees, 'location', [1, 25, 7, 100, 254])"
   ]
  },
  {
   "cell_type": "markdown",
   "metadata": {
    "_uuid": "79fb4788f90b3603c8b71472f44647b808bab25e"
   },
   "source": [
    "# 4. Clasificación\n",
    "\n",
    "## 4.1. Data preprocessing\n",
    "### 4.1.1 Particionamiento"
   ]
  },
  {
   "cell_type": "code",
   "execution_count": 9,
   "metadata": {
    "_uuid": "a167115aa4fcc937097a1c5c8899b909f33fb2d5"
   },
   "outputs": [],
   "source": [
    "train_bees, val_bees, test_bees = utils.split(bees)"
   ]
  },
  {
   "cell_type": "markdown",
   "metadata": {
    "_uuid": "e9650143e38ccda561450d08d241cb7ce51c89e8"
   },
   "source": [
    "\n",
    "### 4.1.2 Carga de imágenes"
   ]
  },
  {
   "cell_type": "code",
   "execution_count": 10,
   "metadata": {
    "_uuid": "dcda4508b7424518d4c11a0e4b7ad2a05f803601"
   },
   "outputs": [],
   "source": [
    "# esta función ya uniformiza todas las imágenes en 100x100\n",
    "train_X, val_X, test_X, train_y, val_y, test_y = utils.load_images_and_target(train_bees, \n",
    "                                                                              val_bees, \n",
    "                                                                              test_bees,\n",
    "                                                                              'health',\n",
    "                                                                              img_width, \n",
    "                                                                              img_height,\n",
    "                                                                              img_channels)"
   ]
  },
  {
   "cell_type": "code",
   "execution_count": 11,
   "metadata": {},
   "outputs": [
    {
     "data": {
      "text/plain": [
       "225                      healthy\n",
       "2453                     healthy\n",
       "3009    few varrao, hive beetles\n",
       "3270                     healthy\n",
       "2622                     healthy\n",
       "                  ...           \n",
       "1275           hive being robbed\n",
       "1439                     healthy\n",
       "1175                ant problems\n",
       "2765                     healthy\n",
       "189                      healthy\n",
       "Name: health, Length: 2338, dtype: category\n",
       "Categories (6, object): [Varroa, Small Hive Beetles, ant problems, few varrao, hive beetles, healthy, hive being robbed, missing queen]"
      ]
     },
     "execution_count": 11,
     "metadata": {},
     "output_type": "execute_result"
    }
   ],
   "source": [
    "train_bees['health']"
   ]
  },
  {
   "cell_type": "code",
   "execution_count": 12,
   "metadata": {},
   "outputs": [
    {
     "data": {
      "text/plain": [
       "array(['Varroa, Small Hive Beetles', 'ant problems',\n",
       "       'few varrao, hive beetles', 'healthy', 'hive being robbed',\n",
       "       'missing queen'], dtype=object)"
      ]
     },
     "execution_count": 12,
     "metadata": {},
     "output_type": "execute_result"
    }
   ],
   "source": [
    "utils.categories['health']"
   ]
  },
  {
   "cell_type": "code",
   "execution_count": 13,
   "metadata": {},
   "outputs": [
    {
     "data": {
      "text/plain": [
       "array([ 7,  8,  9, 10, 11, 12])"
      ]
     },
     "execution_count": 13,
     "metadata": {},
     "output_type": "execute_result"
    }
   ],
   "source": [
    "utils.class_indices['health']"
   ]
  },
  {
   "cell_type": "code",
   "execution_count": 14,
   "metadata": {
    "_uuid": "053d12032f6d113094617826f5f78bba8555c115"
   },
   "outputs": [
    {
     "data": {
      "text/plain": [
       "{0: 1.9186046511627908,\n",
       " 1: 1.8160377358490567,\n",
       " 2: 1.5359042553191489,\n",
       " 3: 0.2518534670737026,\n",
       " 4: 3.725806451612903,\n",
       " 5: 26.25}"
      ]
     },
     "execution_count": 14,
     "metadata": {},
     "output_type": "execute_result"
    }
   ],
   "source": [
    "class_weights = utils.class_weights(bees, 'health')\n",
    "class_weights = dict(enumerate(class_weights))\n",
    "class_weights"
   ]
  },
  {
   "cell_type": "markdown",
   "metadata": {
    "_uuid": "f969b9f496c11dacac4583a319f3dcbd56d3a6ea"
   },
   "source": [
    "## 4.2 CNN"
   ]
  },
  {
   "cell_type": "code",
   "execution_count": 15,
   "metadata": {},
   "outputs": [],
   "source": [
    "optimizer = Adam(lr = 0.001)\n",
    "loss = 'categorical_crossentropy'"
   ]
  },
  {
   "cell_type": "code",
   "execution_count": 16,
   "metadata": {},
   "outputs": [
    {
     "data": {
      "text/plain": [
       "6"
      ]
     },
     "execution_count": 16,
     "metadata": {},
     "output_type": "execute_result"
    }
   ],
   "source": [
    "train_y.columns.size"
   ]
  },
  {
   "cell_type": "code",
   "execution_count": 17,
   "metadata": {
    "_uuid": "053d12032f6d113094617826f5f78bba8555c115"
   },
   "outputs": [],
   "source": [
    "#base_model = VGG16(weights='imagenet', include_top=False)\n",
    "\n",
    "#for layer in base_model.layers:\n",
    "#layer.trainable = False\n",
    "\n",
    "base_model = VGG16(include_top=False, weights='imagenet', input_shape=(img_width, img_height, img_channels))\n",
    "# Do not include the ImageNet classifier at the top.\n",
    "    \n",
    "# congelo las capas del VGG16\n",
    "base_model.trainable = False\n",
    "\n",
    "#for layer in base_model.layers[:]:\n",
    " #   layer.trainable = False\n",
    "\n",
    "model_input = Input((img_height, img_width, img_channels))\n",
    "\n",
    "x = base_model (model_input, training=False)\n",
    "\n",
    "x = keras.layers.GlobalAveragePooling2D()(x)\n",
    "x = keras.layers.Dropout(0.1)(x)  # Regularize with dropout\n",
    "\n",
    "#x = Flatten()(x)\n",
    "y1 = Dense(train_y.columns.size, activation = 'softmax')(x)\n",
    "\n",
    "model1 = Model(inputs=model_input, outputs=y1)\n"
   ]
  },
  {
   "cell_type": "code",
   "execution_count": 18,
   "metadata": {},
   "outputs": [
    {
     "name": "stdout",
     "output_type": "stream",
     "text": [
      "Model: \"functional_1\"\n",
      "_________________________________________________________________\n",
      "Layer (type)                 Output Shape              Param #   \n",
      "=================================================================\n",
      "input_2 (InputLayer)         [(None, 100, 100, 3)]     0         \n",
      "_________________________________________________________________\n",
      "vgg16 (Functional)           (None, 3, 3, 512)         14714688  \n",
      "_________________________________________________________________\n",
      "global_average_pooling2d (Gl (None, 512)               0         \n",
      "_________________________________________________________________\n",
      "dropout (Dropout)            (None, 512)               0         \n",
      "_________________________________________________________________\n",
      "dense (Dense)                (None, 6)                 3078      \n",
      "=================================================================\n",
      "Total params: 14,717,766\n",
      "Trainable params: 3,078\n",
      "Non-trainable params: 14,714,688\n",
      "_________________________________________________________________\n"
     ]
    }
   ],
   "source": [
    "model1.summary()"
   ]
  },
  {
   "cell_type": "code",
   "execution_count": 19,
   "metadata": {},
   "outputs": [
    {
     "name": "stdout",
     "output_type": "stream",
     "text": [
      "Model: \"vgg16\"\n",
      "_________________________________________________________________\n",
      "Layer (type)                 Output Shape              Param #   \n",
      "=================================================================\n",
      "input_1 (InputLayer)         [(None, 100, 100, 3)]     0         \n",
      "_________________________________________________________________\n",
      "block1_conv1 (Conv2D)        (None, 100, 100, 64)      1792      \n",
      "_________________________________________________________________\n",
      "block1_conv2 (Conv2D)        (None, 100, 100, 64)      36928     \n",
      "_________________________________________________________________\n",
      "block1_pool (MaxPooling2D)   (None, 50, 50, 64)        0         \n",
      "_________________________________________________________________\n",
      "block2_conv1 (Conv2D)        (None, 50, 50, 128)       73856     \n",
      "_________________________________________________________________\n",
      "block2_conv2 (Conv2D)        (None, 50, 50, 128)       147584    \n",
      "_________________________________________________________________\n",
      "block2_pool (MaxPooling2D)   (None, 25, 25, 128)       0         \n",
      "_________________________________________________________________\n",
      "block3_conv1 (Conv2D)        (None, 25, 25, 256)       295168    \n",
      "_________________________________________________________________\n",
      "block3_conv2 (Conv2D)        (None, 25, 25, 256)       590080    \n",
      "_________________________________________________________________\n",
      "block3_conv3 (Conv2D)        (None, 25, 25, 256)       590080    \n",
      "_________________________________________________________________\n",
      "block3_pool (MaxPooling2D)   (None, 12, 12, 256)       0         \n",
      "_________________________________________________________________\n",
      "block4_conv1 (Conv2D)        (None, 12, 12, 512)       1180160   \n",
      "_________________________________________________________________\n",
      "block4_conv2 (Conv2D)        (None, 12, 12, 512)       2359808   \n",
      "_________________________________________________________________\n",
      "block4_conv3 (Conv2D)        (None, 12, 12, 512)       2359808   \n",
      "_________________________________________________________________\n",
      "block4_pool (MaxPooling2D)   (None, 6, 6, 512)         0         \n",
      "_________________________________________________________________\n",
      "block5_conv1 (Conv2D)        (None, 6, 6, 512)         2359808   \n",
      "_________________________________________________________________\n",
      "block5_conv2 (Conv2D)        (None, 6, 6, 512)         2359808   \n",
      "_________________________________________________________________\n",
      "block5_conv3 (Conv2D)        (None, 6, 6, 512)         2359808   \n",
      "_________________________________________________________________\n",
      "block5_pool (MaxPooling2D)   (None, 3, 3, 512)         0         \n",
      "=================================================================\n",
      "Total params: 14,714,688\n",
      "Trainable params: 0\n",
      "Non-trainable params: 14,714,688\n",
      "_________________________________________________________________\n"
     ]
    }
   ],
   "source": [
    "base_model.summary()"
   ]
  },
  {
   "cell_type": "code",
   "execution_count": 20,
   "metadata": {},
   "outputs": [],
   "source": [
    "model1.compile(optimizer = optimizer, \n",
    "               loss = loss, \n",
    "               metrics = [utils.MacroAverageRecallMetric(num_classes = train_y.columns.size)])"
   ]
  },
  {
   "cell_type": "code",
   "execution_count": 21,
   "metadata": {},
   "outputs": [
    {
     "data": {
      "image/png": "[encoded data removed]",
      "text/plain": [
       "<IPython.core.display.Image object>"
      ]
     },
     "execution_count": 21,
     "metadata": {},
     "output_type": "execute_result"
    }
   ],
   "source": [
    "current_time = datetime.datetime.now().strftime(\"%Y%m%d_%H%M%S\")\n",
    "modelname = './models/' + model1.name + '_' + current_time\n",
    "keras.utils.plot_model(model1, to_file = modelname + '.png', show_shapes = True)"
   ]
  },
  {
   "cell_type": "markdown",
   "metadata": {},
   "source": [
    "## 4.3 Entrenamiento"
   ]
  },
  {
   "cell_type": "markdown",
   "metadata": {},
   "source": [
    "### 4.2.2 Parámetros de transformación de imágenes (data augmentation)"
   ]
  },
  {
   "cell_type": "code",
   "execution_count": 22,
   "metadata": {},
   "outputs": [],
   "source": [
    "rotation_range = 180     # rotación aleatoria en grados entre 0 a rotation_range\n",
    "zoom_range = 0.1         # zoom aleatorio\n",
    "width_shift_range = 0.1 # desplazamiento horizontal aleatorio (fracción del total)\n",
    "height_shift_range = 0.1 # desplazamiento vertical aleatorio (fracción del total)\n",
    "horizontal_flip = True   # transposición horizontal\n",
    "vertical_flip = True     # transposición horizontal"
   ]
  },
  {
   "cell_type": "code",
   "execution_count": 23,
   "metadata": {
    "_uuid": "053d12032f6d113094617826f5f78bba8555c115"
   },
   "outputs": [],
   "source": [
    "batch_size = 10\n",
    "epochs = 160\n",
    "#defino un nuevo valor de steps_per_epoch así trabajo solo con batch_size\n",
    "steps_per_epoch = train_X.shape[0] // batch_size\n",
    "#steps_per_epoch = 30\n",
    "patience = 10"
   ]
  },
  {
   "cell_type": "code",
   "execution_count": 24,
   "metadata": {},
   "outputs": [],
   "source": [
    "earlystopper = EarlyStopping(monitor='val_loss', \n",
    "                             patience=patience, verbose=1,restore_best_weights=True)\n",
    "callbacks = [earlystopper]"
   ]
  },
  {
   "cell_type": "code",
   "execution_count": 25,
   "metadata": {},
   "outputs": [
    {
     "data": {
      "text/plain": [
       "233"
      ]
     },
     "execution_count": 25,
     "metadata": {},
     "output_type": "execute_result"
    }
   ],
   "source": [
    "steps_per_epoch"
   ]
  },
  {
   "cell_type": "code",
   "execution_count": 26,
   "metadata": {},
   "outputs": [
    {
     "data": {
      "text/plain": [
       "(2338, 100, 100, 3)"
      ]
     },
     "execution_count": 26,
     "metadata": {},
     "output_type": "execute_result"
    }
   ],
   "source": [
    "train_X.shape"
   ]
  },
  {
   "cell_type": "code",
   "execution_count": 27,
   "metadata": {},
   "outputs": [],
   "source": [
    "filepath = './checkpoints/' + model1.name + '_' + current_time + '_{epoch:02d}_{val_loss:.2f}.h5'\n",
    "checkpoint = ModelCheckpoint(filepath, \n",
    "                             monitor=\"val_loss\", verbose=1, save_best_only=True)\n",
    "callbacks.append(checkpoint)"
   ]
  },
  {
   "cell_type": "code",
   "execution_count": 28,
   "metadata": {},
   "outputs": [],
   "source": [
    "bestepoch = utils.BestEpochCallback()\n",
    "callbacks.append(bestepoch)"
   ]
  },
  {
   "cell_type": "code",
   "execution_count": 29,
   "metadata": {
    "_uuid": "053d12032f6d113094617826f5f78bba8555c115"
   },
   "outputs": [
    {
     "name": "stdout",
     "output_type": "stream",
     "text": [
      "Epoch 1/160\n",
      "233/233 [==============================] - ETA: 0s - loss: 1.7426 - macro: 0.2987\n",
      "Epoch 00001: val_loss improved from inf to 1.54803, saving model to ./checkpoints/functional_1_20201127_225150_01_1.55.h5\n",
      "233/233 [==============================] - 13s 56ms/step - loss: 1.7426 - macro: 0.2987 - val_loss: 1.5480 - val_macro: 0.3036\n",
      "Epoch 2/160\n",
      "233/233 [==============================] - ETA: 0s - loss: 1.3804 - macro: 0.4020\n",
      "Epoch 00002: val_loss improved from 1.54803 to 1.35885, saving model to ./checkpoints/functional_1_20201127_225150_02_1.36.h5\n",
      "233/233 [==============================] - 13s 54ms/step - loss: 1.3804 - macro: 0.4020 - val_loss: 1.3589 - val_macro: 0.4113\n",
      "Epoch 3/160\n",
      "233/233 [==============================] - ETA: 0s - loss: 1.2005 - macro: 0.4686\n",
      "Epoch 00003: val_loss improved from 1.35885 to 1.24020, saving model to ./checkpoints/functional_1_20201127_225150_03_1.24.h5\n",
      "233/233 [==============================] - 13s 55ms/step - loss: 1.2005 - macro: 0.4686 - val_loss: 1.2402 - val_macro: 0.4738\n",
      "Epoch 4/160\n",
      "232/233 [============================>.] - ETA: 0s - loss: 1.0759 - macro: 0.5122\n",
      "Epoch 00004: val_loss did not improve from 1.24020\n",
      "233/233 [==============================] - 12s 54ms/step - loss: 1.0767 - macro: 0.5127 - val_loss: 1.2685 - val_macro: 0.5153\n",
      "Epoch 5/160\n",
      "233/233 [==============================] - ETA: 0s - loss: 0.9778 - macro: 0.5492\n",
      "Epoch 00005: val_loss improved from 1.24020 to 1.18246, saving model to ./checkpoints/functional_1_20201127_225150_05_1.18.h5\n",
      "233/233 [==============================] - 13s 54ms/step - loss: 0.9778 - macro: 0.5492 - val_loss: 1.1825 - val_macro: 0.5519\n",
      "Epoch 6/160\n",
      "232/233 [============================>.] - ETA: 0s - loss: 0.9450 - macro: 0.5713\n",
      "Epoch 00006: val_loss improved from 1.18246 to 1.08596, saving model to ./checkpoints/functional_1_20201127_225150_06_1.09.h5\n",
      "233/233 [==============================] - 12s 53ms/step - loss: 0.9440 - macro: 0.5714 - val_loss: 1.0860 - val_macro: 0.5741\n",
      "Epoch 7/160\n",
      "233/233 [==============================] - ETA: 0s - loss: 0.8761 - macro: 0.5912\n",
      "Epoch 00007: val_loss improved from 1.08596 to 1.03611, saving model to ./checkpoints/functional_1_20201127_225150_07_1.04.h5\n",
      "233/233 [==============================] - 12s 52ms/step - loss: 0.8761 - macro: 0.5912 - val_loss: 1.0361 - val_macro: 0.5937\n",
      "Epoch 8/160\n",
      "233/233 [==============================] - ETA: 0s - loss: 0.8384 - macro: 0.6058\n",
      "Epoch 00008: val_loss improved from 1.03611 to 0.94594, saving model to ./checkpoints/functional_1_20201127_225150_08_0.95.h5\n",
      "233/233 [==============================] - 12s 54ms/step - loss: 0.8384 - macro: 0.6058 - val_loss: 0.9459 - val_macro: 0.6078\n",
      "Epoch 9/160\n",
      "233/233 [==============================] - ETA: 0s - loss: 0.8171 - macro: 0.6171\n",
      "Epoch 00009: val_loss did not improve from 0.94594\n",
      "233/233 [==============================] - 12s 54ms/step - loss: 0.8171 - macro: 0.6171 - val_loss: 0.9528 - val_macro: 0.6187\n",
      "Epoch 10/160\n",
      "233/233 [==============================] - ETA: 0s - loss: 0.8114 - macro: 0.6271\n",
      "Epoch 00010: val_loss improved from 0.94594 to 0.90729, saving model to ./checkpoints/functional_1_20201127_225150_10_0.91.h5\n",
      "233/233 [==============================] - 13s 55ms/step - loss: 0.8114 - macro: 0.6271 - val_loss: 0.9073 - val_macro: 0.6288\n",
      "Epoch 11/160\n",
      "233/233 [==============================] - ETA: 0s - loss: 0.7576 - macro: 0.6370\n",
      "Epoch 00011: val_loss improved from 0.90729 to 0.83614, saving model to ./checkpoints/functional_1_20201127_225150_11_0.84.h5\n",
      "233/233 [==============================] - 13s 54ms/step - loss: 0.7576 - macro: 0.6370 - val_loss: 0.8361 - val_macro: 0.6382\n",
      "Epoch 12/160\n",
      "233/233 [==============================] - ETA: 0s - loss: 0.7562 - macro: 0.6473\n",
      "Epoch 00012: val_loss improved from 0.83614 to 0.81800, saving model to ./checkpoints/functional_1_20201127_225150_12_0.82.h5\n",
      "233/233 [==============================] - 12s 53ms/step - loss: 0.7562 - macro: 0.6473 - val_loss: 0.8180 - val_macro: 0.6484\n",
      "Epoch 13/160\n",
      "232/233 [============================>.] - ETA: 0s - loss: 0.7400 - macro: 0.6544\n",
      "Epoch 00013: val_loss improved from 0.81800 to 0.81046, saving model to ./checkpoints/functional_1_20201127_225150_13_0.81.h5\n",
      "233/233 [==============================] - 13s 54ms/step - loss: 0.7379 - macro: 0.6544 - val_loss: 0.8105 - val_macro: 0.6553\n",
      "Epoch 14/160\n",
      "233/233 [==============================] - ETA: 0s - loss: 0.7122 - macro: 0.6614\n",
      "Epoch 00014: val_loss did not improve from 0.81046\n",
      "233/233 [==============================] - 12s 53ms/step - loss: 0.7122 - macro: 0.6614 - val_loss: 0.8559 - val_macro: 0.6623\n",
      "Epoch 15/160\n",
      "233/233 [==============================] - ETA: 0s - loss: 0.6631 - macro: 0.6686\n",
      "Epoch 00015: val_loss improved from 0.81046 to 0.76997, saving model to ./checkpoints/functional_1_20201127_225150_15_0.77.h5\n",
      "233/233 [==============================] - 13s 55ms/step - loss: 0.6631 - macro: 0.6686 - val_loss: 0.7700 - val_macro: 0.6695\n",
      "Epoch 16/160\n",
      "232/233 [============================>.] - ETA: 0s - loss: 0.6597 - macro: 0.6750\n",
      "Epoch 00016: val_loss did not improve from 0.76997\n",
      "233/233 [==============================] - 13s 55ms/step - loss: 0.6622 - macro: 0.6751 - val_loss: 0.7845 - val_macro: 0.6759\n",
      "Epoch 17/160\n",
      "232/233 [============================>.] - ETA: 0s - loss: 0.6652 - macro: 0.6814\n",
      "Epoch 00017: val_loss improved from 0.76997 to 0.68528, saving model to ./checkpoints/functional_1_20201127_225150_17_0.69.h5\n",
      "233/233 [==============================] - 12s 51ms/step - loss: 0.6644 - macro: 0.6814 - val_loss: 0.6853 - val_macro: 0.6822\n",
      "Epoch 18/160\n",
      "233/233 [==============================] - ETA: 0s - loss: 0.6575 - macro: 0.6867\n",
      "Epoch 00018: val_loss did not improve from 0.68528\n",
      "233/233 [==============================] - 12s 52ms/step - loss: 0.6575 - macro: 0.6867 - val_loss: 0.7543 - val_macro: 0.6875\n",
      "Epoch 19/160\n",
      "232/233 [============================>.] - ETA: 0s - loss: 0.6570 - macro: 0.6910\n",
      "Epoch 00019: val_loss did not improve from 0.68528\n",
      "233/233 [==============================] - 12s 52ms/step - loss: 0.6562 - macro: 0.6911 - val_loss: 0.7496 - val_macro: 0.6917\n",
      "Epoch 20/160\n",
      "233/233 [==============================] - ETA: 0s - loss: 0.6291 - macro: 0.6949\n",
      "Epoch 00020: val_loss did not improve from 0.68528\n",
      "233/233 [==============================] - 13s 56ms/step - loss: 0.6291 - macro: 0.6949 - val_loss: 0.7811 - val_macro: 0.6953\n",
      "Epoch 21/160\n",
      "233/233 [==============================] - ETA: 0s - loss: 0.6197 - macro: 0.6988\n",
      "Epoch 00021: val_loss did not improve from 0.68528\n",
      "233/233 [==============================] - 13s 56ms/step - loss: 0.6197 - macro: 0.6988 - val_loss: 0.7125 - val_macro: 0.6994\n",
      "Epoch 22/160\n",
      "233/233 [==============================] - ETA: 0s - loss: 0.6643 - macro: 0.7016\n",
      "Epoch 00022: val_loss did not improve from 0.68528\n",
      "233/233 [==============================] - 12s 53ms/step - loss: 0.6643 - macro: 0.7016 - val_loss: 0.6871 - val_macro: 0.7021\n",
      "Epoch 23/160\n",
      "232/233 [============================>.] - ETA: 0s - loss: 0.6057 - macro: 0.7051\n",
      "Epoch 00023: val_loss improved from 0.68528 to 0.63829, saving model to ./checkpoints/functional_1_20201127_225150_23_0.64.h5\n",
      "233/233 [==============================] - 12s 53ms/step - loss: 0.6050 - macro: 0.7051 - val_loss: 0.6383 - val_macro: 0.7056\n",
      "Epoch 24/160\n",
      "233/233 [==============================] - ETA: 0s - loss: 0.5855 - macro: 0.7091\n",
      "Epoch 00024: val_loss did not improve from 0.63829\n",
      "233/233 [==============================] - 12s 53ms/step - loss: 0.5855 - macro: 0.7091 - val_loss: 0.7201 - val_macro: 0.7095\n",
      "Epoch 25/160\n",
      "233/233 [==============================] - ETA: 0s - loss: 0.6139 - macro: 0.7122\n",
      "Epoch 00025: val_loss did not improve from 0.63829\n",
      "233/233 [==============================] - 13s 54ms/step - loss: 0.6139 - macro: 0.7122 - val_loss: 0.6951 - val_macro: 0.7127\n",
      "Epoch 26/160\n",
      "233/233 [==============================] - ETA: 0s - loss: 0.6213 - macro: 0.7149\n",
      "Epoch 00026: val_loss improved from 0.63829 to 0.60616, saving model to ./checkpoints/functional_1_20201127_225150_26_0.61.h5\n",
      "233/233 [==============================] - 12s 54ms/step - loss: 0.6213 - macro: 0.7149 - val_loss: 0.6062 - val_macro: 0.7154\n"
     ]
    },
    {
     "name": "stdout",
     "output_type": "stream",
     "text": [
      "Epoch 27/160\n",
      "232/233 [============================>.] - ETA: 0s - loss: 0.5957 - macro: 0.7178\n",
      "Epoch 00027: val_loss did not improve from 0.60616\n",
      "233/233 [==============================] - 13s 54ms/step - loss: 0.5946 - macro: 0.7178 - val_loss: 0.6912 - val_macro: 0.7182\n",
      "Epoch 28/160\n",
      "233/233 [==============================] - ETA: 0s - loss: 0.5667 - macro: 0.7209\n",
      "Epoch 00028: val_loss did not improve from 0.60616\n",
      "233/233 [==============================] - 13s 54ms/step - loss: 0.5667 - macro: 0.7209 - val_loss: 0.6743 - val_macro: 0.7213\n",
      "Epoch 29/160\n",
      "232/233 [============================>.] - ETA: 0s - loss: 0.5758 - macro: 0.7234\n",
      "Epoch 00029: val_loss did not improve from 0.60616\n",
      "233/233 [==============================] - 13s 54ms/step - loss: 0.5742 - macro: 0.7234 - val_loss: 0.6704 - val_macro: 0.7238\n",
      "Epoch 30/160\n",
      "232/233 [============================>.] - ETA: 0s - loss: 0.5935 - macro: 0.7255\n",
      "Epoch 00030: val_loss did not improve from 0.60616\n",
      "233/233 [==============================] - 13s 55ms/step - loss: 0.5930 - macro: 0.7255 - val_loss: 0.6402 - val_macro: 0.7259\n",
      "Epoch 31/160\n",
      "232/233 [============================>.] - ETA: 0s - loss: 0.5757 - macro: 0.7277\n",
      "Epoch 00031: val_loss did not improve from 0.60616\n",
      "233/233 [==============================] - 12s 54ms/step - loss: 0.5747 - macro: 0.7278 - val_loss: 0.7334 - val_macro: 0.7279\n",
      "Epoch 32/160\n",
      "233/233 [==============================] - ETA: 0s - loss: 0.6095 - macro: 0.7295\n",
      "Epoch 00032: val_loss did not improve from 0.60616\n",
      "233/233 [==============================] - 13s 55ms/step - loss: 0.6095 - macro: 0.7295 - val_loss: 0.7369 - val_macro: 0.7298\n",
      "Epoch 33/160\n",
      "233/233 [==============================] - ETA: 0s - loss: 0.5641 - macro: 0.7318\n",
      "Epoch 00033: val_loss did not improve from 0.60616\n",
      "233/233 [==============================] - 13s 54ms/step - loss: 0.5641 - macro: 0.7318 - val_loss: 0.6209 - val_macro: 0.7321\n",
      "Epoch 34/160\n",
      "233/233 [==============================] - ETA: 0s - loss: 0.5748 - macro: 0.7338\n",
      "Epoch 00034: val_loss improved from 0.60616 to 0.59310, saving model to ./checkpoints/functional_1_20201127_225150_34_0.59.h5\n",
      "233/233 [==============================] - 13s 54ms/step - loss: 0.5748 - macro: 0.7338 - val_loss: 0.5931 - val_macro: 0.7341\n",
      "Epoch 35/160\n",
      "232/233 [============================>.] - ETA: 0s - loss: 0.5853 - macro: 0.7355\n",
      "Epoch 00035: val_loss did not improve from 0.59310\n",
      "233/233 [==============================] - 13s 54ms/step - loss: 0.5851 - macro: 0.7355 - val_loss: 0.7355 - val_macro: 0.7357\n",
      "Epoch 36/160\n",
      "232/233 [============================>.] - ETA: 0s - loss: 0.5531 - macro: 0.7376\n",
      "Epoch 00036: val_loss did not improve from 0.59310\n",
      "233/233 [==============================] - 13s 54ms/step - loss: 0.5596 - macro: 0.7376 - val_loss: 0.6333 - val_macro: 0.7378\n",
      "Epoch 37/160\n",
      "232/233 [============================>.] - ETA: 0s - loss: 0.5392 - macro: 0.7395\n",
      "Epoch 00037: val_loss did not improve from 0.59310\n",
      "233/233 [==============================] - 13s 55ms/step - loss: 0.5389 - macro: 0.7395 - val_loss: 0.6079 - val_macro: 0.7398\n",
      "Epoch 38/160\n",
      "232/233 [============================>.] - ETA: 0s - loss: 0.5345 - macro: 0.7413\n",
      "Epoch 00038: val_loss did not improve from 0.59310\n",
      "233/233 [==============================] - 13s 54ms/step - loss: 0.5345 - macro: 0.7413 - val_loss: 0.6511 - val_macro: 0.7415\n",
      "Epoch 39/160\n",
      "233/233 [==============================] - ETA: 0s - loss: 0.5392 - macro: 0.7431\n",
      "Epoch 00039: val_loss did not improve from 0.59310\n",
      "233/233 [==============================] - 13s 55ms/step - loss: 0.5392 - macro: 0.7431 - val_loss: 0.6804 - val_macro: 0.7433\n",
      "Epoch 40/160\n",
      "232/233 [============================>.] - ETA: 0s - loss: 0.5250 - macro: 0.7450\n",
      "Epoch 00040: val_loss improved from 0.59310 to 0.57607, saving model to ./checkpoints/functional_1_20201127_225150_40_0.58.h5\n",
      "233/233 [==============================] - 13s 55ms/step - loss: 0.5253 - macro: 0.7449 - val_loss: 0.5761 - val_macro: 0.7452\n",
      "Epoch 41/160\n",
      "232/233 [============================>.] - ETA: 0s - loss: 0.5479 - macro: 0.7466\n",
      "Epoch 00041: val_loss did not improve from 0.57607\n",
      "233/233 [==============================] - 13s 54ms/step - loss: 0.5476 - macro: 0.7466 - val_loss: 0.6101 - val_macro: 0.7468\n",
      "Epoch 42/160\n",
      "233/233 [==============================] - ETA: 0s - loss: 0.5199 - macro: 0.7486\n",
      "Epoch 00042: val_loss did not improve from 0.57607\n",
      "233/233 [==============================] - 12s 53ms/step - loss: 0.5199 - macro: 0.7486 - val_loss: 0.6401 - val_macro: 0.7488\n",
      "Epoch 43/160\n",
      "233/233 [==============================] - ETA: 0s - loss: 0.5373 - macro: 0.7497\n",
      "Epoch 00043: val_loss did not improve from 0.57607\n",
      "233/233 [==============================] - 13s 54ms/step - loss: 0.5373 - macro: 0.7497 - val_loss: 0.6262 - val_macro: 0.7499\n",
      "Epoch 44/160\n",
      "232/233 [============================>.] - ETA: 0s - loss: 0.5348 - macro: 0.7506\n",
      "Epoch 00044: val_loss did not improve from 0.57607\n",
      "233/233 [==============================] - 13s 54ms/step - loss: 0.5338 - macro: 0.7506 - val_loss: 0.6379 - val_macro: 0.7508\n",
      "Epoch 45/160\n",
      "233/233 [==============================] - ETA: 0s - loss: 0.5248 - macro: 0.7519\n",
      "Epoch 00045: val_loss improved from 0.57607 to 0.57596, saving model to ./checkpoints/functional_1_20201127_225150_45_0.58.h5\n",
      "233/233 [==============================] - 12s 53ms/step - loss: 0.5248 - macro: 0.7519 - val_loss: 0.5760 - val_macro: 0.7522\n",
      "Epoch 46/160\n",
      "233/233 [==============================] - ETA: 0s - loss: 0.5244 - macro: 0.7536\n",
      "Epoch 00046: val_loss did not improve from 0.57596\n",
      "233/233 [==============================] - 13s 54ms/step - loss: 0.5244 - macro: 0.7536 - val_loss: 0.6207 - val_macro: 0.7537\n",
      "Epoch 47/160\n",
      "233/233 [==============================] - ETA: 0s - loss: 0.5541 - macro: 0.7544\n",
      "Epoch 00047: val_loss did not improve from 0.57596\n",
      "233/233 [==============================] - 12s 53ms/step - loss: 0.5541 - macro: 0.7544 - val_loss: 0.6756 - val_macro: 0.7546\n",
      "Epoch 48/160\n",
      "232/233 [============================>.] - ETA: 0s - loss: 0.5284 - macro: 0.7556\n",
      "Epoch 00048: val_loss improved from 0.57596 to 0.54101, saving model to ./checkpoints/functional_1_20201127_225150_48_0.54.h5\n",
      "233/233 [==============================] - 13s 54ms/step - loss: 0.5277 - macro: 0.7556 - val_loss: 0.5410 - val_macro: 0.7558\n",
      "Epoch 49/160\n",
      "233/233 [==============================] - ETA: 0s - loss: 0.5398 - macro: 0.7568\n",
      "Epoch 00049: val_loss did not improve from 0.54101\n",
      "233/233 [==============================] - 13s 54ms/step - loss: 0.5398 - macro: 0.7568 - val_loss: 0.6429 - val_macro: 0.7570\n",
      "Epoch 50/160\n",
      "233/233 [==============================] - ETA: 0s - loss: 0.5098 - macro: 0.7581\n",
      "Epoch 00050: val_loss did not improve from 0.54101\n",
      "233/233 [==============================] - 13s 55ms/step - loss: 0.5098 - macro: 0.7581 - val_loss: 0.6424 - val_macro: 0.7582\n",
      "Epoch 51/160\n",
      "233/233 [==============================] - ETA: 0s - loss: 0.5021 - macro: 0.7591\n",
      "Epoch 00051: val_loss did not improve from 0.54101\n",
      "233/233 [==============================] - 13s 54ms/step - loss: 0.5021 - macro: 0.7591 - val_loss: 0.6292 - val_macro: 0.7593\n",
      "Epoch 52/160\n",
      "233/233 [==============================] - ETA: 0s - loss: 0.4812 - macro: 0.7603\n",
      "Epoch 00052: val_loss did not improve from 0.54101\n",
      "233/233 [==============================] - 12s 53ms/step - loss: 0.4812 - macro: 0.7603 - val_loss: 0.5651 - val_macro: 0.7605\n",
      "Epoch 53/160\n",
      "233/233 [==============================] - ETA: 0s - loss: 0.5358 - macro: 0.7613\n",
      "Epoch 00053: val_loss did not improve from 0.54101\n",
      "233/233 [==============================] - 13s 54ms/step - loss: 0.5358 - macro: 0.7613 - val_loss: 0.5754 - val_macro: 0.7615\n",
      "Epoch 54/160\n",
      "233/233 [==============================] - ETA: 0s - loss: 0.5076 - macro: 0.7623\n",
      "Epoch 00054: val_loss did not improve from 0.54101\n",
      "233/233 [==============================] - 13s 54ms/step - loss: 0.5076 - macro: 0.7623 - val_loss: 0.6371 - val_macro: 0.7624\n",
      "Epoch 55/160\n",
      "232/233 [============================>.] - ETA: 0s - loss: 0.4777 - macro: 0.7635\n",
      "Epoch 00055: val_loss did not improve from 0.54101\n",
      "233/233 [==============================] - 13s 55ms/step - loss: 0.4775 - macro: 0.7635 - val_loss: 0.6603 - val_macro: 0.7636\n"
     ]
    },
    {
     "name": "stdout",
     "output_type": "stream",
     "text": [
      "Epoch 56/160\n",
      "232/233 [============================>.] - ETA: 0s - loss: 0.5037 - macro: 0.7646\n",
      "Epoch 00056: val_loss did not improve from 0.54101\n",
      "233/233 [==============================] - 13s 54ms/step - loss: 0.5040 - macro: 0.7645 - val_loss: 0.5602 - val_macro: 0.7647\n",
      "Epoch 57/160\n",
      "233/233 [==============================] - ETA: 0s - loss: 0.5303 - macro: 0.7653\n",
      "Epoch 00057: val_loss did not improve from 0.54101\n",
      "233/233 [==============================] - 13s 55ms/step - loss: 0.5303 - macro: 0.7653 - val_loss: 0.6247 - val_macro: 0.7654\n",
      "Epoch 58/160\n",
      "233/233 [==============================] - ETA: 0s - loss: 0.4994 - macro: 0.7663Restoring model weights from the end of the best epoch.\n",
      "\n",
      "Epoch 00058: val_loss did not improve from 0.54101\n",
      "233/233 [==============================] - 13s 54ms/step - loss: 0.4994 - macro: 0.7663 - val_loss: 0.5823 - val_macro: 0.7663\n",
      "Epoch 00058: early stopping\n",
      "--- Early stopping best epoch    48 with loss 0.5410\n"
     ]
    }
   ],
   "source": [
    "training1, model1 = utils.train(model1,\n",
    "                                train_X, \n",
    "                                train_y, \n",
    "                                batch_size = batch_size,\n",
    "                                epochs = epochs,\n",
    "                                validation_data_X = val_X, \n",
    "                                validation_data_y = val_y,\n",
    "                                steps_per_epoch = steps_per_epoch,\n",
    "                                rotation_range = rotation_range,\n",
    "                                zoom_range = zoom_range, \n",
    "                                width_shift_range = width_shift_range,\n",
    "                                height_shift_range = height_shift_range,\n",
    "                                horizontal_flip = horizontal_flip,  \n",
    "                                vertical_flip = vertical_flip,\n",
    "                                callbacks = callbacks,\n",
    "                                class_weights = class_weights\n",
    "                               )"
   ]
  },
  {
   "cell_type": "markdown",
   "metadata": {
    "_uuid": "ac639c24adf884c806ce1ab985fe7db7e9aab26a"
   },
   "source": [
    "## 4.3 Evaluación del modelo"
   ]
  },
  {
   "cell_type": "code",
   "execution_count": 30,
   "metadata": {
    "_uuid": "b096e119c62a41dc227ad9f12131ca0c28dbed8b"
   },
   "outputs": [
    {
     "data": {
      "image/png": "[encoded data removed]",
      "text/plain": [
       "<Figure size 360x360 with 2 Axes>"
      ]
     },
     "metadata": {
      "needs_background": "light"
     },
     "output_type": "display_data"
    },
    {
     "data": {
      "image/png": "[encoded data removed]",
      "text/plain": [
       "<Figure size 432x288 with 1 Axes>"
      ]
     },
     "metadata": {
      "needs_background": "light"
     },
     "output_type": "display_data"
    },
    {
     "name": "stdout",
     "output_type": "stream",
     "text": [
      "Classification report\n",
      "                            precision    recall  f1-score   support\n",
      "\n",
      "Varroa, Small Hive Beetles       0.56      0.70      0.62        69\n",
      "              ant problems       0.88      0.92      0.90        84\n",
      "  few varrao, hive beetles       0.49      0.73      0.58        81\n",
      "                   healthy       0.97      0.80      0.88       584\n",
      "         hive being robbed       0.58      0.93      0.71        44\n",
      "             missing queen       0.24      1.00      0.38         5\n",
      "\n",
      "                  accuracy                           0.81       867\n",
      "                 macro avg       0.62      0.85      0.68       867\n",
      "              weighted avg       0.86      0.81      0.82       867\n",
      "\n",
      "Loss function: 0.5766732096672058\n"
     ]
    }
   ],
   "source": [
    "utils.eval_model(training1, model1, test_X, test_y, 'health')"
   ]
  },
  {
   "cell_type": "code",
   "execution_count": 31,
   "metadata": {},
   "outputs": [],
   "source": [
    "trainedmodelname = modelname + '_{:02d}_{:.2f}.h5'.format(bestepoch.best_epoch, bestepoch.best_loss)\n",
    "model1.save(trainedmodelname)"
   ]
  },
  {
   "cell_type": "code",
   "execution_count": 32,
   "metadata": {},
   "outputs": [],
   "source": [
    "saved_model = keras.models.load_model(trainedmodelname, \n",
    "                                      custom_objects = {'MacroAverageRecallMetric' : utils.MacroAverageRecallMetric})"
   ]
  },
  {
   "cell_type": "code",
   "execution_count": 33,
   "metadata": {},
   "outputs": [
    {
     "data": {
      "text/html": [
       "<div>\n",
       "<style scoped>\n",
       "    .dataframe tbody tr th:only-of-type {\n",
       "        vertical-align: middle;\n",
       "    }\n",
       "\n",
       "    .dataframe tbody tr th {\n",
       "        vertical-align: top;\n",
       "    }\n",
       "\n",
       "    .dataframe thead th {\n",
       "        text-align: right;\n",
       "    }\n",
       "</style>\n",
       "<table border=\"1\" class=\"dataframe\">\n",
       "  <thead>\n",
       "    <tr style=\"text-align: right;\">\n",
       "      <th></th>\n",
       "      <th>id</th>\n",
       "      <th>expected</th>\n",
       "    </tr>\n",
       "  </thead>\n",
       "  <tbody>\n",
       "    <tr>\n",
       "      <th>0</th>\n",
       "      <td>0</td>\n",
       "      <td>Russian honey bee</td>\n",
       "    </tr>\n",
       "    <tr>\n",
       "      <th>1</th>\n",
       "      <td>1</td>\n",
       "      <td>Italian honey bee</td>\n",
       "    </tr>\n",
       "    <tr>\n",
       "      <th>2</th>\n",
       "      <td>2</td>\n",
       "      <td>Carniolan honey bee</td>\n",
       "    </tr>\n",
       "    <tr>\n",
       "      <th>3</th>\n",
       "      <td>3</td>\n",
       "      <td>1 Mixed local stock 2</td>\n",
       "    </tr>\n",
       "    <tr>\n",
       "      <th>4</th>\n",
       "      <td>4</td>\n",
       "      <td>Carniolan honey bee</td>\n",
       "    </tr>\n",
       "    <tr>\n",
       "      <th>...</th>\n",
       "      <td>...</td>\n",
       "      <td>...</td>\n",
       "    </tr>\n",
       "    <tr>\n",
       "      <th>1702</th>\n",
       "      <td>1702</td>\n",
       "      <td>VSH Italian honey bee</td>\n",
       "    </tr>\n",
       "    <tr>\n",
       "      <th>1703</th>\n",
       "      <td>1703</td>\n",
       "      <td>Carniolan honey bee</td>\n",
       "    </tr>\n",
       "    <tr>\n",
       "      <th>1704</th>\n",
       "      <td>1704</td>\n",
       "      <td>1 Mixed local stock 2</td>\n",
       "    </tr>\n",
       "    <tr>\n",
       "      <th>1705</th>\n",
       "      <td>1705</td>\n",
       "      <td>Italian honey bee</td>\n",
       "    </tr>\n",
       "    <tr>\n",
       "      <th>1706</th>\n",
       "      <td>1706</td>\n",
       "      <td>Italian honey bee</td>\n",
       "    </tr>\n",
       "  </tbody>\n",
       "</table>\n",
       "<p>1707 rows × 2 columns</p>\n",
       "</div>"
      ],
      "text/plain": [
       "        id               expected\n",
       "0        0      Russian honey bee\n",
       "1        1      Italian honey bee\n",
       "2        2    Carniolan honey bee\n",
       "3        3  1 Mixed local stock 2\n",
       "4        4    Carniolan honey bee\n",
       "...    ...                    ...\n",
       "1702  1702  VSH Italian honey bee\n",
       "1703  1703    Carniolan honey bee\n",
       "1704  1704  1 Mixed local stock 2\n",
       "1705  1705      Italian honey bee\n",
       "1706  1706      Italian honey bee\n",
       "\n",
       "[1707 rows x 2 columns]"
      ]
     },
     "execution_count": 33,
     "metadata": {},
     "output_type": "execute_result"
    }
   ],
   "source": [
    "df_subspecies = utils.load_test_and_generate_prediction_file(model1, img_width, img_height, img_channels, 'subspecies')\n",
    "df_subspecies"
   ]
  },
  {
   "cell_type": "code",
   "execution_count": null,
   "metadata": {},
   "outputs": [],
   "source": []
  }
 ],
 "metadata": {
  "kernelspec": {
   "display_name": "Python 3",
   "language": "python",
   "name": "python3"
  },
  "language_info": {
   "codemirror_mode": {
    "name": "ipython",
    "version": 3
   },
   "file_extension": ".py",
   "mimetype": "text/x-python",
   "name": "python",
   "nbconvert_exporter": "python",
   "pygments_lexer": "ipython3",
   "version": "3.7.6"
  }
 },
 "nbformat": 4,
 "nbformat_minor": 1
}
